{
 "cells": [
  {
   "cell_type": "markdown",
   "metadata": {},
   "source": [
    "# Aula 1 : 18/jan/2017"
   ]
  },
  {
   "cell_type": "markdown",
   "metadata": {},
   "source": [
    "import pandas as pd"
   ]
  },
  {
   "cell_type": "code",
   "execution_count": null,
   "metadata": {
    "collapsed": true
   },
   "outputs": [],
   "source": [
    "a = 3"
   ]
  },
  {
   "cell_type": "code",
   "execution_count": null,
   "metadata": {
    "collapsed": false
   },
   "outputs": [],
   "source": [
    "a"
   ]
  },
  {
   "cell_type": "code",
   "execution_count": null,
   "metadata": {
    "collapsed": false
   },
   "outputs": [],
   "source": [
    "type(a)"
   ]
  },
  {
   "cell_type": "code",
   "execution_count": null,
   "metadata": {
    "collapsed": true
   },
   "outputs": [],
   "source": [
    "b = True"
   ]
  },
  {
   "cell_type": "code",
   "execution_count": null,
   "metadata": {
    "collapsed": false
   },
   "outputs": [],
   "source": [
    "b"
   ]
  },
  {
   "cell_type": "code",
   "execution_count": null,
   "metadata": {
    "collapsed": true
   },
   "outputs": [],
   "source": [
    "h = 'hello'\n",
    "w = 'world'"
   ]
  },
  {
   "cell_type": "code",
   "execution_count": null,
   "metadata": {
    "collapsed": false
   },
   "outputs": [],
   "source": [
    "print(h,w)"
   ]
  },
  {
   "cell_type": "code",
   "execution_count": null,
   "metadata": {
    "collapsed": false
   },
   "outputs": [],
   "source": [
    "a + 4"
   ]
  },
  {
   "cell_type": "code",
   "execution_count": null,
   "metadata": {
    "collapsed": false
   },
   "outputs": [],
   "source": [
    "h + w"
   ]
  },
  {
   "cell_type": "code",
   "execution_count": null,
   "metadata": {
    "collapsed": true
   },
   "outputs": [],
   "source": [
    "b = 0.3"
   ]
  },
  {
   "cell_type": "code",
   "execution_count": null,
   "metadata": {
    "collapsed": false
   },
   "outputs": [],
   "source": [
    "type(b)"
   ]
  },
  {
   "cell_type": "code",
   "execution_count": null,
   "metadata": {
    "collapsed": false
   },
   "outputs": [],
   "source": [
    "a + b"
   ]
  },
  {
   "cell_type": "code",
   "execution_count": null,
   "metadata": {
    "collapsed": false
   },
   "outputs": [],
   "source": [
    "type(a+b)"
   ]
  },
  {
   "cell_type": "code",
   "execution_count": null,
   "metadata": {
    "collapsed": false
   },
   "outputs": [],
   "source": [
    "h.upper()"
   ]
  },
  {
   "cell_type": "code",
   "execution_count": null,
   "metadata": {
    "collapsed": false
   },
   "outputs": [],
   "source": [
    "h.capitalize()"
   ]
  },
  {
   "cell_type": "markdown",
   "metadata": {},
   "source": [
    "## listas, conjuntos e dicionarios"
   ]
  },
  {
   "cell_type": "code",
   "execution_count": null,
   "metadata": {
    "collapsed": true
   },
   "outputs": [],
   "source": [
    "l = [3, 2, 0, -10]"
   ]
  },
  {
   "cell_type": "code",
   "execution_count": null,
   "metadata": {
    "collapsed": false
   },
   "outputs": [],
   "source": [
    "l[1]"
   ]
  },
  {
   "cell_type": "code",
   "execution_count": null,
   "metadata": {
    "collapsed": false
   },
   "outputs": [],
   "source": [
    "l[0:2]"
   ]
  },
  {
   "cell_type": "code",
   "execution_count": null,
   "metadata": {
    "collapsed": false
   },
   "outputs": [],
   "source": [
    "l[:2]"
   ]
  },
  {
   "cell_type": "code",
   "execution_count": null,
   "metadata": {
    "collapsed": false
   },
   "outputs": [],
   "source": [
    "l[2:]"
   ]
  },
  {
   "cell_type": "code",
   "execution_count": null,
   "metadata": {
    "collapsed": false
   },
   "outputs": [],
   "source": [
    "l[-1]"
   ]
  },
  {
   "cell_type": "code",
   "execution_count": null,
   "metadata": {
    "collapsed": false
   },
   "outputs": [],
   "source": [
    "l"
   ]
  },
  {
   "cell_type": "code",
   "execution_count": null,
   "metadata": {
    "collapsed": true
   },
   "outputs": [],
   "source": [
    "l.append(30)"
   ]
  },
  {
   "cell_type": "code",
   "execution_count": null,
   "metadata": {
    "collapsed": false
   },
   "outputs": [],
   "source": [
    "l"
   ]
  },
  {
   "cell_type": "code",
   "execution_count": null,
   "metadata": {
    "collapsed": true
   },
   "outputs": [],
   "source": [
    "l.remove(-10)"
   ]
  },
  {
   "cell_type": "code",
   "execution_count": null,
   "metadata": {
    "collapsed": false
   },
   "outputs": [],
   "source": [
    "l"
   ]
  },
  {
   "cell_type": "code",
   "execution_count": null,
   "metadata": {
    "collapsed": false
   },
   "outputs": [],
   "source": [
    "l"
   ]
  },
  {
   "cell_type": "code",
   "execution_count": null,
   "metadata": {
    "collapsed": true
   },
   "outputs": [],
   "source": [
    "del l[2]"
   ]
  },
  {
   "cell_type": "code",
   "execution_count": null,
   "metadata": {
    "collapsed": false
   },
   "outputs": [],
   "source": [
    "l"
   ]
  },
  {
   "cell_type": "code",
   "execution_count": null,
   "metadata": {
    "collapsed": true
   },
   "outputs": [],
   "source": [
    "c = {10, 20, 30, -10, 20}"
   ]
  },
  {
   "cell_type": "code",
   "execution_count": null,
   "metadata": {
    "collapsed": false
   },
   "outputs": [],
   "source": [
    "c"
   ]
  },
  {
   "cell_type": "code",
   "execution_count": null,
   "metadata": {
    "collapsed": false
   },
   "outputs": [],
   "source": [
    "list(c)"
   ]
  },
  {
   "cell_type": "code",
   "execution_count": null,
   "metadata": {
    "collapsed": false
   },
   "outputs": [],
   "source": [
    "set(l)"
   ]
  },
  {
   "cell_type": "code",
   "execution_count": null,
   "metadata": {
    "collapsed": true
   },
   "outputs": [],
   "source": [
    "d = {'a': -2, 'b': -3, 'c': -1000}"
   ]
  },
  {
   "cell_type": "code",
   "execution_count": null,
   "metadata": {
    "collapsed": false
   },
   "outputs": [],
   "source": [
    "d"
   ]
  },
  {
   "cell_type": "code",
   "execution_count": null,
   "metadata": {
    "collapsed": false
   },
   "outputs": [],
   "source": [
    "d['b']"
   ]
  },
  {
   "cell_type": "code",
   "execution_count": null,
   "metadata": {
    "collapsed": true
   },
   "outputs": [],
   "source": [
    "d = {0: 'a', 1: 'b', 'x': 3}"
   ]
  },
  {
   "cell_type": "code",
   "execution_count": null,
   "metadata": {
    "collapsed": false
   },
   "outputs": [],
   "source": [
    "d"
   ]
  },
  {
   "cell_type": "code",
   "execution_count": null,
   "metadata": {
    "collapsed": false
   },
   "outputs": [],
   "source": [
    "type(list(d.keys())[2])"
   ]
  },
  {
   "cell_type": "code",
   "execution_count": null,
   "metadata": {
    "collapsed": false
   },
   "outputs": [],
   "source": [
    "type(d['x'])"
   ]
  },
  {
   "cell_type": "code",
   "execution_count": null,
   "metadata": {
    "collapsed": false
   },
   "outputs": [],
   "source": [
    "type(d[0])"
   ]
  },
  {
   "cell_type": "code",
   "execution_count": null,
   "metadata": {
    "collapsed": false
   },
   "outputs": [],
   "source": [
    "d"
   ]
  },
  {
   "cell_type": "code",
   "execution_count": null,
   "metadata": {
    "collapsed": false
   },
   "outputs": [],
   "source": [
    "d['x']"
   ]
  },
  {
   "cell_type": "code",
   "execution_count": null,
   "metadata": {
    "collapsed": false
   },
   "outputs": [],
   "source": [
    "d.get('x', 0)"
   ]
  },
  {
   "cell_type": "code",
   "execution_count": null,
   "metadata": {
    "collapsed": true
   },
   "outputs": [],
   "source": [
    "a = [1,3,4]"
   ]
  },
  {
   "cell_type": "code",
   "execution_count": null,
   "metadata": {
    "collapsed": true
   },
   "outputs": [],
   "source": [
    "b = (1,3,4)"
   ]
  },
  {
   "cell_type": "code",
   "execution_count": null,
   "metadata": {
    "collapsed": true
   },
   "outputs": [],
   "source": [
    "a.append(4)"
   ]
  },
  {
   "cell_type": "code",
   "execution_count": null,
   "metadata": {
    "collapsed": false
   },
   "outputs": [],
   "source": [
    "a"
   ]
  },
  {
   "cell_type": "code",
   "execution_count": null,
   "metadata": {
    "collapsed": false
   },
   "outputs": [],
   "source": [
    "b.append(6)"
   ]
  },
  {
   "cell_type": "code",
   "execution_count": null,
   "metadata": {
    "collapsed": true
   },
   "outputs": [],
   "source": []
  },
  {
   "cell_type": "markdown",
   "metadata": {},
   "source": [
    "# Aula 2 : 26/jan/2017"
   ]
  },
  {
   "cell_type": "markdown",
   "metadata": {},
   "source": [
    "## loops"
   ]
  },
  {
   "cell_type": "code",
   "execution_count": null,
   "metadata": {
    "collapsed": false
   },
   "outputs": [],
   "source": [
    "range(5)"
   ]
  },
  {
   "cell_type": "code",
   "execution_count": null,
   "metadata": {
    "collapsed": false
   },
   "outputs": [],
   "source": [
    "for c in range(10): \n",
    "    print(c) "
   ]
  },
  {
   "cell_type": "code",
   "execution_count": null,
   "metadata": {
    "collapsed": false
   },
   "outputs": [],
   "source": [
    "c = [10, 20, 30, -10, 20]"
   ]
  },
  {
   "cell_type": "code",
   "execution_count": null,
   "metadata": {
    "collapsed": false
   },
   "outputs": [],
   "source": [
    "list(enumerate(c))"
   ]
  },
  {
   "cell_type": "code",
   "execution_count": null,
   "metadata": {
    "collapsed": false
   },
   "outputs": [],
   "source": [
    "for e in enumerate(c):\n",
    "    print(e)"
   ]
  },
  {
   "cell_type": "code",
   "execution_count": null,
   "metadata": {
    "collapsed": false
   },
   "outputs": [],
   "source": [
    "for i, e in enumerate(c):\n",
    "    print(i, e)"
   ]
  },
  {
   "cell_type": "code",
   "execution_count": null,
   "metadata": {
    "collapsed": true
   },
   "outputs": [],
   "source": [
    "d = [1, 10, -3, 0, 'abc']"
   ]
  },
  {
   "cell_type": "code",
   "execution_count": null,
   "metadata": {
    "collapsed": false
   },
   "outputs": [],
   "source": [
    "c"
   ]
  },
  {
   "cell_type": "code",
   "execution_count": null,
   "metadata": {
    "collapsed": false
   },
   "outputs": [],
   "source": [
    "d"
   ]
  },
  {
   "cell_type": "code",
   "execution_count": null,
   "metadata": {
    "collapsed": false
   },
   "outputs": [],
   "source": [
    "for e in zip(c, d, c):\n",
    "    print(e)"
   ]
  },
  {
   "cell_type": "code",
   "execution_count": null,
   "metadata": {
    "collapsed": true
   },
   "outputs": [],
   "source": [
    "l = [1, 3, 5, 7, 9]"
   ]
  },
  {
   "cell_type": "code",
   "execution_count": null,
   "metadata": {
    "collapsed": false
   },
   "outputs": [],
   "source": [
    "list(range(2,10,3))"
   ]
  },
  {
   "cell_type": "code",
   "execution_count": null,
   "metadata": {
    "collapsed": false
   },
   "outputs": [],
   "source": [
    "l = []\n",
    "for i in range(10):\n",
    "    if i % 2 == 1: l.append(i)\n",
    "print(l)"
   ]
  },
  {
   "cell_type": "markdown",
   "metadata": {},
   "source": [
    "### list comprehension"
   ]
  },
  {
   "cell_type": "code",
   "execution_count": null,
   "metadata": {
    "collapsed": false
   },
   "outputs": [],
   "source": [
    "[ i for i in range(10) if i % 2 == 1 ]"
   ]
  },
  {
   "cell_type": "code",
   "execution_count": null,
   "metadata": {
    "collapsed": false
   },
   "outputs": [],
   "source": [
    "[ i if i % 2 == 1 else 0 for i in range(10)  ]"
   ]
  },
  {
   "cell_type": "code",
   "execution_count": null,
   "metadata": {
    "collapsed": false
   },
   "outputs": [],
   "source": [
    "b = True\n",
    "a = 5 if b == True else 10\n",
    "print(a)"
   ]
  },
  {
   "cell_type": "code",
   "execution_count": null,
   "metadata": {
    "collapsed": false
   },
   "outputs": [],
   "source": [
    "[[1,2,3], [2,3,4], [3,4,5]]"
   ]
  },
  {
   "cell_type": "code",
   "execution_count": null,
   "metadata": {
    "collapsed": false
   },
   "outputs": [],
   "source": [
    "[ [i + j for i in range(1,4)] for j in range(0,3)  ]"
   ]
  },
  {
   "cell_type": "code",
   "execution_count": null,
   "metadata": {
    "collapsed": false
   },
   "outputs": [],
   "source": [
    "[[1,0,0], [0,1,0], [0,0,1]]"
   ]
  },
  {
   "cell_type": "code",
   "execution_count": null,
   "metadata": {
    "collapsed": false
   },
   "outputs": [],
   "source": [
    "[[1 if i == j else 0 for i in range(3)] for j in range(3)]"
   ]
  },
  {
   "cell_type": "code",
   "execution_count": null,
   "metadata": {
    "collapsed": false
   },
   "outputs": [],
   "source": [
    "# [[[1 if i == j else 0 for i in range(3)] for j in range(3)] for k in range(3) ]"
   ]
  },
  {
   "cell_type": "markdown",
   "metadata": {},
   "source": [
    "### dict comprehension"
   ]
  },
  {
   "cell_type": "code",
   "execution_count": null,
   "metadata": {
    "collapsed": true
   },
   "outputs": [],
   "source": [
    "s = 'abc'"
   ]
  },
  {
   "cell_type": "code",
   "execution_count": null,
   "metadata": {
    "collapsed": false
   },
   "outputs": [],
   "source": [
    "list(s)"
   ]
  },
  {
   "cell_type": "code",
   "execution_count": null,
   "metadata": {
    "collapsed": false
   },
   "outputs": [],
   "source": [
    "{ k: v for k, v in zip(list(s), range(3))  }"
   ]
  },
  {
   "cell_type": "code",
   "execution_count": null,
   "metadata": {
    "collapsed": false
   },
   "outputs": [],
   "source": [
    "list(zip(list(s), range(3)))"
   ]
  },
  {
   "cell_type": "code",
   "execution_count": null,
   "metadata": {
    "collapsed": false
   },
   "outputs": [],
   "source": [
    "{ k: v for k, v in [('a', 0), ('b', 1), ('c', 2)]  }"
   ]
  },
  {
   "cell_type": "markdown",
   "metadata": {
    "collapsed": true
   },
   "source": [
    "### Medindo tempo"
   ]
  },
  {
   "cell_type": "code",
   "execution_count": null,
   "metadata": {
    "collapsed": false
   },
   "outputs": [],
   "source": [
    "%timeit for _ in range(1000): True"
   ]
  },
  {
   "cell_type": "code",
   "execution_count": null,
   "metadata": {
    "collapsed": false
   },
   "outputs": [],
   "source": [
    "%%timeit \n",
    "for _ in range(1000): True"
   ]
  },
  {
   "cell_type": "code",
   "execution_count": null,
   "metadata": {
    "collapsed": true
   },
   "outputs": [],
   "source": []
  },
  {
   "cell_type": "markdown",
   "metadata": {},
   "source": [
    "# Aulas 2 e 3 : 1/fev/2017 e 8/fev/2017"
   ]
  },
  {
   "cell_type": "markdown",
   "metadata": {},
   "source": [
    "### funções"
   ]
  },
  {
   "cell_type": "code",
   "execution_count": 62,
   "metadata": {
    "collapsed": true
   },
   "outputs": [],
   "source": [
    "def media_aritmetica(a,b):\n",
    "    return (a+b)/2"
   ]
  },
  {
   "cell_type": "code",
   "execution_count": 63,
   "metadata": {
    "collapsed": false
   },
   "outputs": [
    {
     "data": {
      "text/plain": [
       "3.0"
      ]
     },
     "execution_count": 63,
     "metadata": {},
     "output_type": "execute_result"
    }
   ],
   "source": [
    "media_aritmetica(1,5)"
   ]
  },
  {
   "cell_type": "code",
   "execution_count": 64,
   "metadata": {
    "collapsed": true
   },
   "outputs": [],
   "source": [
    "def media_harmonica(a,b):\n",
    "    if (a == 0) or (b == 0):\n",
    "        return 0\n",
    "    else:    \n",
    "        return (2/(1/a + 1/b))"
   ]
  },
  {
   "cell_type": "code",
   "execution_count": 65,
   "metadata": {
    "collapsed": true
   },
   "outputs": [],
   "source": [
    "def media_geometrica(a,b):\n",
    "    return ((a*b)**0.5)"
   ]
  },
  {
   "cell_type": "code",
   "execution_count": 66,
   "metadata": {
    "collapsed": false
   },
   "outputs": [
    {
     "data": {
      "text/plain": [
       "2.23606797749979"
      ]
     },
     "execution_count": 66,
     "metadata": {},
     "output_type": "execute_result"
    }
   ],
   "source": [
    "media_geometrica(1,5)"
   ]
  },
  {
   "cell_type": "code",
   "execution_count": 67,
   "metadata": {
    "collapsed": false
   },
   "outputs": [
    {
     "data": {
      "text/plain": [
       "1.6666666666666667"
      ]
     },
     "execution_count": 67,
     "metadata": {},
     "output_type": "execute_result"
    }
   ],
   "source": [
    "media_harmonica(1,5)"
   ]
  },
  {
   "cell_type": "markdown",
   "metadata": {},
   "source": [
    "### classes"
   ]
  },
  {
   "cell_type": "code",
   "execution_count": 71,
   "metadata": {
    "collapsed": true
   },
   "outputs": [],
   "source": [
    "class media(object):\n",
    "    \n",
    "    def __init__(self):\n",
    "        self.name = 'media'\n",
    "    \n",
    "    def aritmetica(self, a,b):\n",
    "        return (a+b)/2\n",
    "    \n",
    "    def harmonica(self, a,b):\n",
    "        if (a == 0) or (b == 0):\n",
    "            return 0\n",
    "        else:    \n",
    "            return (2/(1/a + 1/b))\n",
    "        \n",
    "    def geometrica(self, a,b):\n",
    "        return ((a*b)**0.5)"
   ]
  },
  {
   "cell_type": "code",
   "execution_count": 72,
   "metadata": {
    "collapsed": true
   },
   "outputs": [],
   "source": [
    "m = media()"
   ]
  },
  {
   "cell_type": "code",
   "execution_count": 73,
   "metadata": {
    "collapsed": false
   },
   "outputs": [
    {
     "data": {
      "text/plain": [
       "1.4142135623730951"
      ]
     },
     "execution_count": 73,
     "metadata": {},
     "output_type": "execute_result"
    }
   ],
   "source": [
    "m.geometrica(1,2)"
   ]
  },
  {
   "cell_type": "code",
   "execution_count": 74,
   "metadata": {
    "collapsed": false
   },
   "outputs": [
    {
     "data": {
      "text/plain": [
       "1.5"
      ]
     },
     "execution_count": 74,
     "metadata": {},
     "output_type": "execute_result"
    }
   ],
   "source": [
    "m.aritmetica(1,2)"
   ]
  },
  {
   "cell_type": "code",
   "execution_count": 75,
   "metadata": {
    "collapsed": false
   },
   "outputs": [
    {
     "data": {
      "text/plain": [
       "1.3333333333333333"
      ]
     },
     "execution_count": 75,
     "metadata": {},
     "output_type": "execute_result"
    }
   ],
   "source": [
    "m.harmonica(1,2)"
   ]
  },
  {
   "cell_type": "code",
   "execution_count": 77,
   "metadata": {
    "collapsed": false
   },
   "outputs": [
    {
     "data": {
      "text/plain": [
       "'media'"
      ]
     },
     "execution_count": 77,
     "metadata": {},
     "output_type": "execute_result"
    }
   ],
   "source": [
    "m.name"
   ]
  },
  {
   "cell_type": "code",
   "execution_count": 115,
   "metadata": {
    "collapsed": false
   },
   "outputs": [
    {
     "data": {
      "text/plain": [
       "__main__.media"
      ]
     },
     "execution_count": 115,
     "metadata": {},
     "output_type": "execute_result"
    }
   ],
   "source": [
    "type(m)"
   ]
  },
  {
   "cell_type": "markdown",
   "metadata": {},
   "source": [
    "### Exercicio\n",
    "\n",
    "Dado argumento uma lista, retornar os elementos negativos "
   ]
  },
  {
   "cell_type": "code",
   "execution_count": null,
   "metadata": {
    "collapsed": true
   },
   "outputs": [],
   "source": [
    "filtra_negativos([0,1,-2,5,-10])"
   ]
  },
  {
   "cell_type": "code",
   "execution_count": null,
   "metadata": {
    "collapsed": true
   },
   "outputs": [],
   "source": [
    "[0,1,5]"
   ]
  },
  {
   "cell_type": "code",
   "execution_count": null,
   "metadata": {
    "collapsed": true
   },
   "outputs": [],
   "source": []
  },
  {
   "cell_type": "code",
   "execution_count": 82,
   "metadata": {
    "collapsed": true
   },
   "outputs": [],
   "source": [
    "def filtra_negativos(lista):\n",
    "    lista_retorno = []\n",
    "    for i in lista:\n",
    "        if i >= 0:\n",
    "            lista_retorno.append(i)\n",
    "    return lista_retorno"
   ]
  },
  {
   "cell_type": "code",
   "execution_count": 83,
   "metadata": {
    "collapsed": false
   },
   "outputs": [
    {
     "data": {
      "text/plain": [
       "[0, 1, 5]"
      ]
     },
     "execution_count": 83,
     "metadata": {},
     "output_type": "execute_result"
    }
   ],
   "source": [
    "filtra_negativos([0,1,-2,5,-10])"
   ]
  },
  {
   "cell_type": "code",
   "execution_count": 84,
   "metadata": {
    "collapsed": true
   },
   "outputs": [],
   "source": [
    "def filtra_negativos_2(lista):\n",
    "    return [i for i in lista if i >= 0]"
   ]
  },
  {
   "cell_type": "code",
   "execution_count": 86,
   "metadata": {
    "collapsed": false
   },
   "outputs": [
    {
     "data": {
      "text/plain": [
       "[0, 1, 5]"
      ]
     },
     "execution_count": 86,
     "metadata": {},
     "output_type": "execute_result"
    }
   ],
   "source": [
    "filtra_negativos_2([0,1,-2,5,-10])"
   ]
  },
  {
   "cell_type": "code",
   "execution_count": null,
   "metadata": {
    "collapsed": true
   },
   "outputs": [],
   "source": []
  },
  {
   "cell_type": "markdown",
   "metadata": {},
   "source": [
    "### iterator e generator"
   ]
  },
  {
   "cell_type": "code",
   "execution_count": 100,
   "metadata": {
    "collapsed": true
   },
   "outputs": [],
   "source": [
    "def filtra_negativos_iterator(lista):\n",
    "    lista_retorno = []\n",
    "    for i in lista:\n",
    "        if i >= 0:\n",
    "            lista_retorno.append(i)\n",
    "            print(i)"
   ]
  },
  {
   "cell_type": "code",
   "execution_count": 101,
   "metadata": {
    "collapsed": false
   },
   "outputs": [
    {
     "name": "stdout",
     "output_type": "stream",
     "text": [
      "0\n",
      "1\n",
      "5\n"
     ]
    }
   ],
   "source": [
    "filtra_negativos_iterator([0,1,-2,5,-10])"
   ]
  },
  {
   "cell_type": "code",
   "execution_count": 102,
   "metadata": {
    "collapsed": true
   },
   "outputs": [],
   "source": [
    "def filtra_negativos_iterator(lista):\n",
    "    lista_retorno = []\n",
    "    for i in lista:\n",
    "        if i >= 0:\n",
    "            lista_retorno.append(i)\n",
    "            yield i"
   ]
  },
  {
   "cell_type": "code",
   "execution_count": 105,
   "metadata": {
    "collapsed": false
   },
   "outputs": [
    {
     "data": {
      "text/plain": [
       "[0, 1, 5]"
      ]
     },
     "execution_count": 105,
     "metadata": {},
     "output_type": "execute_result"
    }
   ],
   "source": [
    "list(filtra_negativos_iterator([0,1,-2,5,-10]))"
   ]
  },
  {
   "cell_type": "code",
   "execution_count": 107,
   "metadata": {
    "collapsed": false
   },
   "outputs": [
    {
     "name": "stdout",
     "output_type": "stream",
     "text": [
      "0\n",
      "1\n",
      "5\n"
     ]
    }
   ],
   "source": [
    "for p in filtra_negativos_iterator([0,1,-2,5,-10]):\n",
    "    print (p)"
   ]
  },
  {
   "cell_type": "code",
   "execution_count": 108,
   "metadata": {
    "collapsed": false
   },
   "outputs": [
    {
     "data": {
      "text/plain": [
       "<generator object filtra_negativos_iterator at 0x107de4ba0>"
      ]
     },
     "execution_count": 108,
     "metadata": {},
     "output_type": "execute_result"
    }
   ],
   "source": [
    "filtra_negativos_iterator([0,1,-2,5,-10])"
   ]
  },
  {
   "cell_type": "code",
   "execution_count": null,
   "metadata": {
    "collapsed": true
   },
   "outputs": [],
   "source": []
  },
  {
   "cell_type": "markdown",
   "metadata": {},
   "source": [
    "# pandas e numpy"
   ]
  },
  {
   "cell_type": "markdown",
   "metadata": {},
   "source": [
    "### pandas\n",
    "\n"
   ]
  },
  {
   "cell_type": "code",
   "execution_count": 109,
   "metadata": {
    "collapsed": true
   },
   "outputs": [],
   "source": [
    "import pandas as pd"
   ]
  },
  {
   "cell_type": "code",
   "execution_count": null,
   "metadata": {
    "collapsed": false
   },
   "outputs": [],
   "source": [
    "import webbrowser\n",
    "\n",
    "url = \"http://www.cbf.com.br/competicoes/brasileiro-serie-a/classificacao/2016#.WJG3B7YrJE4\"\n",
    "\n",
    "webbrowser.open_new(url)"
   ]
  },
  {
   "cell_type": "code",
   "execution_count": 192,
   "metadata": {
    "collapsed": false
   },
   "outputs": [
    {
     "name": "stderr",
     "output_type": "stream",
     "text": [
      "b'Skipping line 5: expected 19 fields, saw 20\\nSkipping line 9: expected 19 fields, saw 20\\nSkipping line 11: expected 19 fields, saw 20\\n'\n"
     ]
    }
   ],
   "source": [
    "# So reformatando dataframe para a aula\n",
    "\n",
    "df = pd.read_clipboard(error_bad_lines=False)"
   ]
  },
  {
   "cell_type": "code",
   "execution_count": 193,
   "metadata": {
    "collapsed": false
   },
   "outputs": [
    {
     "data": {
      "text/html": [
       "<div>\n",
       "<table border=\"1\" class=\"dataframe\">\n",
       "  <thead>\n",
       "    <tr style=\"text-align: right;\">\n",
       "      <th></th>\n",
       "      <th></th>\n",
       "      <th></th>\n",
       "      <th>Classificação</th>\n",
       "      <th>P</th>\n",
       "      <th>J</th>\n",
       "      <th>V</th>\n",
       "      <th>E</th>\n",
       "      <th>D</th>\n",
       "      <th>GP</th>\n",
       "      <th>GC</th>\n",
       "      <th>SG</th>\n",
       "      <th>VM</th>\n",
       "      <th>VV</th>\n",
       "      <th>DM</th>\n",
       "      <th>DV</th>\n",
       "      <th>CA</th>\n",
       "      <th>CV</th>\n",
       "      <th>%</th>\n",
       "    </tr>\n",
       "  </thead>\n",
       "  <tbody>\n",
       "    <tr>\n",
       "      <th>1º</th>\n",
       "      <th>PALMEIRAS</th>\n",
       "      <th>-</th>\n",
       "      <td>SP</td>\n",
       "      <td>80</td>\n",
       "      <td>38</td>\n",
       "      <td>24</td>\n",
       "      <td>8</td>\n",
       "      <td>6</td>\n",
       "      <td>62</td>\n",
       "      <td>32</td>\n",
       "      <td>30</td>\n",
       "      <td>14</td>\n",
       "      <td>10</td>\n",
       "      <td>1</td>\n",
       "      <td>5</td>\n",
       "      <td>95</td>\n",
       "      <td>0</td>\n",
       "      <td>70</td>\n",
       "    </tr>\n",
       "    <tr>\n",
       "      <th>2º</th>\n",
       "      <th>SANTOS</th>\n",
       "      <th>-</th>\n",
       "      <td>SP</td>\n",
       "      <td>71</td>\n",
       "      <td>38</td>\n",
       "      <td>22</td>\n",
       "      <td>5</td>\n",
       "      <td>11</td>\n",
       "      <td>59</td>\n",
       "      <td>35</td>\n",
       "      <td>24</td>\n",
       "      <td>15</td>\n",
       "      <td>7</td>\n",
       "      <td>2</td>\n",
       "      <td>9</td>\n",
       "      <td>74</td>\n",
       "      <td>4</td>\n",
       "      <td>62</td>\n",
       "    </tr>\n",
       "    <tr>\n",
       "      <th>3º</th>\n",
       "      <th>FLAMENGO</th>\n",
       "      <th>-</th>\n",
       "      <td>RJ</td>\n",
       "      <td>71</td>\n",
       "      <td>38</td>\n",
       "      <td>20</td>\n",
       "      <td>11</td>\n",
       "      <td>7</td>\n",
       "      <td>52</td>\n",
       "      <td>35</td>\n",
       "      <td>17</td>\n",
       "      <td>12</td>\n",
       "      <td>8</td>\n",
       "      <td>2</td>\n",
       "      <td>5</td>\n",
       "      <td>62</td>\n",
       "      <td>5</td>\n",
       "      <td>62</td>\n",
       "    </tr>\n",
       "    <tr>\n",
       "      <th>5º</th>\n",
       "      <th>BOTAFOGO</th>\n",
       "      <th>-</th>\n",
       "      <td>RJ</td>\n",
       "      <td>59</td>\n",
       "      <td>38</td>\n",
       "      <td>17</td>\n",
       "      <td>8</td>\n",
       "      <td>13</td>\n",
       "      <td>43</td>\n",
       "      <td>39</td>\n",
       "      <td>4</td>\n",
       "      <td>10</td>\n",
       "      <td>7</td>\n",
       "      <td>4</td>\n",
       "      <td>9</td>\n",
       "      <td>93</td>\n",
       "      <td>2</td>\n",
       "      <td>51</td>\n",
       "    </tr>\n",
       "    <tr>\n",
       "      <th>6º</th>\n",
       "      <th>ATLÉTICO</th>\n",
       "      <th>-</th>\n",
       "      <td>PR</td>\n",
       "      <td>57</td>\n",
       "      <td>38</td>\n",
       "      <td>17</td>\n",
       "      <td>6</td>\n",
       "      <td>15</td>\n",
       "      <td>38</td>\n",
       "      <td>32</td>\n",
       "      <td>6</td>\n",
       "      <td>15</td>\n",
       "      <td>2</td>\n",
       "      <td>1</td>\n",
       "      <td>14</td>\n",
       "      <td>76</td>\n",
       "      <td>1</td>\n",
       "      <td>50</td>\n",
       "    </tr>\n",
       "    <tr>\n",
       "      <th>7º</th>\n",
       "      <th>CORINTHIANS</th>\n",
       "      <th>-</th>\n",
       "      <td>SP</td>\n",
       "      <td>55</td>\n",
       "      <td>38</td>\n",
       "      <td>15</td>\n",
       "      <td>10</td>\n",
       "      <td>13</td>\n",
       "      <td>48</td>\n",
       "      <td>42</td>\n",
       "      <td>6</td>\n",
       "      <td>10</td>\n",
       "      <td>5</td>\n",
       "      <td>2</td>\n",
       "      <td>11</td>\n",
       "      <td>76</td>\n",
       "      <td>5</td>\n",
       "      <td>48</td>\n",
       "    </tr>\n",
       "    <tr>\n",
       "      <th>9º</th>\n",
       "      <th>GRÊMIO</th>\n",
       "      <th>-</th>\n",
       "      <td>RS</td>\n",
       "      <td>53</td>\n",
       "      <td>38</td>\n",
       "      <td>14</td>\n",
       "      <td>11</td>\n",
       "      <td>13</td>\n",
       "      <td>41</td>\n",
       "      <td>44</td>\n",
       "      <td>-3</td>\n",
       "      <td>11</td>\n",
       "      <td>3</td>\n",
       "      <td>4</td>\n",
       "      <td>9</td>\n",
       "      <td>93</td>\n",
       "      <td>6</td>\n",
       "      <td>46</td>\n",
       "    </tr>\n",
       "  </tbody>\n",
       "</table>\n",
       "</div>"
      ],
      "text/plain": [
       "                 Classificação   P   J   V   E   D  GP  GC  SG  VM  VV  DM  \\\n",
       "1º PALMEIRAS   -            SP  80  38  24   8   6  62  32  30  14  10   1   \n",
       "2º SANTOS      -            SP  71  38  22   5  11  59  35  24  15   7   2   \n",
       "3º FLAMENGO    -            RJ  71  38  20  11   7  52  35  17  12   8   2   \n",
       "5º BOTAFOGO    -            RJ  59  38  17   8  13  43  39   4  10   7   4   \n",
       "6º ATLÉTICO    -            PR  57  38  17   6  15  38  32   6  15   2   1   \n",
       "7º CORINTHIANS -            SP  55  38  15  10  13  48  42   6  10   5   2   \n",
       "9º GRÊMIO      -            RS  53  38  14  11  13  41  44  -3  11   3   4   \n",
       "\n",
       "                  DV  CA  CV   %  \n",
       "1º PALMEIRAS   -   5  95   0  70  \n",
       "2º SANTOS      -   9  74   4  62  \n",
       "3º FLAMENGO    -   5  62   5  62  \n",
       "5º BOTAFOGO    -   9  93   2  51  \n",
       "6º ATLÉTICO    -  14  76   1  50  \n",
       "7º CORINTHIANS -  11  76   5  48  \n",
       "9º GRÊMIO      -   9  93   6  46  "
      ]
     },
     "execution_count": 193,
     "metadata": {},
     "output_type": "execute_result"
    }
   ],
   "source": [
    "df"
   ]
  },
  {
   "cell_type": "code",
   "execution_count": 194,
   "metadata": {
    "collapsed": false
   },
   "outputs": [],
   "source": [
    "df.reset_index(inplace=True)\n",
    "\n",
    "df.drop(['level_0', 'level_2'], axis = 1, inplace = True)\n",
    "\n",
    "df.rename(columns={'Classificação': 'UF', 'level_1': 'Equipe'}, inplace = True)"
   ]
  },
  {
   "cell_type": "code",
   "execution_count": 195,
   "metadata": {
    "collapsed": false
   },
   "outputs": [
    {
     "data": {
      "text/html": [
       "<div>\n",
       "<table border=\"1\" class=\"dataframe\">\n",
       "  <thead>\n",
       "    <tr style=\"text-align: right;\">\n",
       "      <th></th>\n",
       "      <th>Equipe</th>\n",
       "      <th>UF</th>\n",
       "      <th>P</th>\n",
       "      <th>J</th>\n",
       "      <th>V</th>\n",
       "      <th>E</th>\n",
       "      <th>D</th>\n",
       "      <th>GP</th>\n",
       "      <th>GC</th>\n",
       "      <th>SG</th>\n",
       "      <th>VM</th>\n",
       "      <th>VV</th>\n",
       "      <th>DM</th>\n",
       "      <th>DV</th>\n",
       "      <th>CA</th>\n",
       "      <th>CV</th>\n",
       "      <th>%</th>\n",
       "    </tr>\n",
       "  </thead>\n",
       "  <tbody>\n",
       "    <tr>\n",
       "      <th>0</th>\n",
       "      <td>PALMEIRAS</td>\n",
       "      <td>SP</td>\n",
       "      <td>80</td>\n",
       "      <td>38</td>\n",
       "      <td>24</td>\n",
       "      <td>8</td>\n",
       "      <td>6</td>\n",
       "      <td>62</td>\n",
       "      <td>32</td>\n",
       "      <td>30</td>\n",
       "      <td>14</td>\n",
       "      <td>10</td>\n",
       "      <td>1</td>\n",
       "      <td>5</td>\n",
       "      <td>95</td>\n",
       "      <td>0</td>\n",
       "      <td>70</td>\n",
       "    </tr>\n",
       "    <tr>\n",
       "      <th>1</th>\n",
       "      <td>SANTOS</td>\n",
       "      <td>SP</td>\n",
       "      <td>71</td>\n",
       "      <td>38</td>\n",
       "      <td>22</td>\n",
       "      <td>5</td>\n",
       "      <td>11</td>\n",
       "      <td>59</td>\n",
       "      <td>35</td>\n",
       "      <td>24</td>\n",
       "      <td>15</td>\n",
       "      <td>7</td>\n",
       "      <td>2</td>\n",
       "      <td>9</td>\n",
       "      <td>74</td>\n",
       "      <td>4</td>\n",
       "      <td>62</td>\n",
       "    </tr>\n",
       "    <tr>\n",
       "      <th>2</th>\n",
       "      <td>FLAMENGO</td>\n",
       "      <td>RJ</td>\n",
       "      <td>71</td>\n",
       "      <td>38</td>\n",
       "      <td>20</td>\n",
       "      <td>11</td>\n",
       "      <td>7</td>\n",
       "      <td>52</td>\n",
       "      <td>35</td>\n",
       "      <td>17</td>\n",
       "      <td>12</td>\n",
       "      <td>8</td>\n",
       "      <td>2</td>\n",
       "      <td>5</td>\n",
       "      <td>62</td>\n",
       "      <td>5</td>\n",
       "      <td>62</td>\n",
       "    </tr>\n",
       "    <tr>\n",
       "      <th>3</th>\n",
       "      <td>BOTAFOGO</td>\n",
       "      <td>RJ</td>\n",
       "      <td>59</td>\n",
       "      <td>38</td>\n",
       "      <td>17</td>\n",
       "      <td>8</td>\n",
       "      <td>13</td>\n",
       "      <td>43</td>\n",
       "      <td>39</td>\n",
       "      <td>4</td>\n",
       "      <td>10</td>\n",
       "      <td>7</td>\n",
       "      <td>4</td>\n",
       "      <td>9</td>\n",
       "      <td>93</td>\n",
       "      <td>2</td>\n",
       "      <td>51</td>\n",
       "    </tr>\n",
       "    <tr>\n",
       "      <th>4</th>\n",
       "      <td>ATLÉTICO</td>\n",
       "      <td>PR</td>\n",
       "      <td>57</td>\n",
       "      <td>38</td>\n",
       "      <td>17</td>\n",
       "      <td>6</td>\n",
       "      <td>15</td>\n",
       "      <td>38</td>\n",
       "      <td>32</td>\n",
       "      <td>6</td>\n",
       "      <td>15</td>\n",
       "      <td>2</td>\n",
       "      <td>1</td>\n",
       "      <td>14</td>\n",
       "      <td>76</td>\n",
       "      <td>1</td>\n",
       "      <td>50</td>\n",
       "    </tr>\n",
       "    <tr>\n",
       "      <th>5</th>\n",
       "      <td>CORINTHIANS</td>\n",
       "      <td>SP</td>\n",
       "      <td>55</td>\n",
       "      <td>38</td>\n",
       "      <td>15</td>\n",
       "      <td>10</td>\n",
       "      <td>13</td>\n",
       "      <td>48</td>\n",
       "      <td>42</td>\n",
       "      <td>6</td>\n",
       "      <td>10</td>\n",
       "      <td>5</td>\n",
       "      <td>2</td>\n",
       "      <td>11</td>\n",
       "      <td>76</td>\n",
       "      <td>5</td>\n",
       "      <td>48</td>\n",
       "    </tr>\n",
       "    <tr>\n",
       "      <th>6</th>\n",
       "      <td>GRÊMIO</td>\n",
       "      <td>RS</td>\n",
       "      <td>53</td>\n",
       "      <td>38</td>\n",
       "      <td>14</td>\n",
       "      <td>11</td>\n",
       "      <td>13</td>\n",
       "      <td>41</td>\n",
       "      <td>44</td>\n",
       "      <td>-3</td>\n",
       "      <td>11</td>\n",
       "      <td>3</td>\n",
       "      <td>4</td>\n",
       "      <td>9</td>\n",
       "      <td>93</td>\n",
       "      <td>6</td>\n",
       "      <td>46</td>\n",
       "    </tr>\n",
       "  </tbody>\n",
       "</table>\n",
       "</div>"
      ],
      "text/plain": [
       "        Equipe  UF   P   J   V   E   D  GP  GC  SG  VM  VV  DM  DV  CA  CV   %\n",
       "0    PALMEIRAS  SP  80  38  24   8   6  62  32  30  14  10   1   5  95   0  70\n",
       "1       SANTOS  SP  71  38  22   5  11  59  35  24  15   7   2   9  74   4  62\n",
       "2     FLAMENGO  RJ  71  38  20  11   7  52  35  17  12   8   2   5  62   5  62\n",
       "3     BOTAFOGO  RJ  59  38  17   8  13  43  39   4  10   7   4   9  93   2  51\n",
       "4     ATLÉTICO  PR  57  38  17   6  15  38  32   6  15   2   1  14  76   1  50\n",
       "5  CORINTHIANS  SP  55  38  15  10  13  48  42   6  10   5   2  11  76   5  48\n",
       "6       GRÊMIO  RS  53  38  14  11  13  41  44  -3  11   3   4   9  93   6  46"
      ]
     },
     "execution_count": 195,
     "metadata": {},
     "output_type": "execute_result"
    }
   ],
   "source": [
    "df"
   ]
  },
  {
   "cell_type": "code",
   "execution_count": 196,
   "metadata": {
    "collapsed": false
   },
   "outputs": [
    {
     "data": {
      "text/plain": [
       "pandas.core.frame.DataFrame"
      ]
     },
     "execution_count": 196,
     "metadata": {},
     "output_type": "execute_result"
    }
   ],
   "source": [
    "type(df)"
   ]
  },
  {
   "cell_type": "code",
   "execution_count": 197,
   "metadata": {
    "collapsed": false
   },
   "outputs": [],
   "source": [
    "# Modulos para crawling\n",
    "# import requests\n",
    "# import BeautifulSoup"
   ]
  },
  {
   "cell_type": "markdown",
   "metadata": {},
   "source": [
    "### metodos e atributos para checar caracteristicas do dataframe"
   ]
  },
  {
   "cell_type": "code",
   "execution_count": 198,
   "metadata": {
    "collapsed": false
   },
   "outputs": [
    {
     "data": {
      "text/plain": [
       "(7, 17)"
      ]
     },
     "execution_count": 198,
     "metadata": {},
     "output_type": "execute_result"
    }
   ],
   "source": [
    "df.shape"
   ]
  },
  {
   "cell_type": "code",
   "execution_count": 199,
   "metadata": {
    "collapsed": false
   },
   "outputs": [
    {
     "name": "stdout",
     "output_type": "stream",
     "text": [
      "<class 'pandas.core.frame.DataFrame'>\n",
      "RangeIndex: 7 entries, 0 to 6\n",
      "Data columns (total 17 columns):\n",
      "Equipe    7 non-null object\n",
      "UF        7 non-null object\n",
      "P         7 non-null int64\n",
      "J         7 non-null int64\n",
      "V         7 non-null int64\n",
      "E         7 non-null int64\n",
      "D         7 non-null int64\n",
      "GP        7 non-null int64\n",
      "GC        7 non-null int64\n",
      "SG        7 non-null int64\n",
      "VM        7 non-null int64\n",
      "VV        7 non-null int64\n",
      "DM        7 non-null int64\n",
      "DV        7 non-null int64\n",
      "CA        7 non-null int64\n",
      "CV        7 non-null int64\n",
      "%         7 non-null int64\n",
      "dtypes: int64(15), object(2)\n",
      "memory usage: 1.0+ KB\n"
     ]
    }
   ],
   "source": [
    "df.info()"
   ]
  },
  {
   "cell_type": "code",
   "execution_count": 200,
   "metadata": {
    "collapsed": false
   },
   "outputs": [
    {
     "data": {
      "text/plain": [
       "Equipe    object\n",
       "UF        object\n",
       "P          int64\n",
       "J          int64\n",
       "V          int64\n",
       "E          int64\n",
       "D          int64\n",
       "GP         int64\n",
       "GC         int64\n",
       "SG         int64\n",
       "VM         int64\n",
       "VV         int64\n",
       "DM         int64\n",
       "DV         int64\n",
       "CA         int64\n",
       "CV         int64\n",
       "%          int64\n",
       "dtype: object"
      ]
     },
     "execution_count": 200,
     "metadata": {},
     "output_type": "execute_result"
    }
   ],
   "source": [
    "df.dtypes"
   ]
  },
  {
   "cell_type": "code",
   "execution_count": 201,
   "metadata": {
    "collapsed": false
   },
   "outputs": [
    {
     "data": {
      "text/plain": [
       "pandas.core.frame.DataFrame"
      ]
     },
     "execution_count": 201,
     "metadata": {},
     "output_type": "execute_result"
    }
   ],
   "source": [
    "type(df)"
   ]
  },
  {
   "cell_type": "code",
   "execution_count": 202,
   "metadata": {
    "collapsed": false
   },
   "outputs": [
    {
     "data": {
      "text/plain": [
       "dtype('int64')"
      ]
     },
     "execution_count": 202,
     "metadata": {},
     "output_type": "execute_result"
    }
   ],
   "source": [
    "df.CV.dtype"
   ]
  },
  {
   "cell_type": "markdown",
   "metadata": {},
   "source": [
    "### Indexing, Slicing"
   ]
  },
  {
   "cell_type": "markdown",
   "metadata": {},
   "source": [
    "#### indexing de colunas"
   ]
  },
  {
   "cell_type": "code",
   "execution_count": 203,
   "metadata": {
    "collapsed": false
   },
   "outputs": [
    {
     "data": {
      "text/plain": [
       "0    32\n",
       "1    35\n",
       "2    35\n",
       "3    39\n",
       "4    32\n",
       "5    42\n",
       "6    44\n",
       "Name: GC, dtype: int64"
      ]
     },
     "execution_count": 203,
     "metadata": {},
     "output_type": "execute_result"
    }
   ],
   "source": [
    "df['GC']"
   ]
  },
  {
   "cell_type": "code",
   "execution_count": 204,
   "metadata": {
    "collapsed": false
   },
   "outputs": [
    {
     "data": {
      "text/plain": [
       "0    32\n",
       "1    35\n",
       "2    35\n",
       "3    39\n",
       "4    32\n",
       "5    42\n",
       "6    44\n",
       "Name: GC, dtype: int64"
      ]
     },
     "execution_count": 204,
     "metadata": {},
     "output_type": "execute_result"
    }
   ],
   "source": [
    "df.GC"
   ]
  },
  {
   "cell_type": "code",
   "execution_count": 205,
   "metadata": {
    "collapsed": false
   },
   "outputs": [
    {
     "data": {
      "text/html": [
       "<div>\n",
       "<table border=\"1\" class=\"dataframe\">\n",
       "  <thead>\n",
       "    <tr style=\"text-align: right;\">\n",
       "      <th></th>\n",
       "      <th>Equipe</th>\n",
       "      <th>GC</th>\n",
       "      <th>GP</th>\n",
       "    </tr>\n",
       "  </thead>\n",
       "  <tbody>\n",
       "    <tr>\n",
       "      <th>0</th>\n",
       "      <td>PALMEIRAS</td>\n",
       "      <td>32</td>\n",
       "      <td>62</td>\n",
       "    </tr>\n",
       "    <tr>\n",
       "      <th>1</th>\n",
       "      <td>SANTOS</td>\n",
       "      <td>35</td>\n",
       "      <td>59</td>\n",
       "    </tr>\n",
       "    <tr>\n",
       "      <th>2</th>\n",
       "      <td>FLAMENGO</td>\n",
       "      <td>35</td>\n",
       "      <td>52</td>\n",
       "    </tr>\n",
       "    <tr>\n",
       "      <th>3</th>\n",
       "      <td>BOTAFOGO</td>\n",
       "      <td>39</td>\n",
       "      <td>43</td>\n",
       "    </tr>\n",
       "    <tr>\n",
       "      <th>4</th>\n",
       "      <td>ATLÉTICO</td>\n",
       "      <td>32</td>\n",
       "      <td>38</td>\n",
       "    </tr>\n",
       "    <tr>\n",
       "      <th>5</th>\n",
       "      <td>CORINTHIANS</td>\n",
       "      <td>42</td>\n",
       "      <td>48</td>\n",
       "    </tr>\n",
       "    <tr>\n",
       "      <th>6</th>\n",
       "      <td>GRÊMIO</td>\n",
       "      <td>44</td>\n",
       "      <td>41</td>\n",
       "    </tr>\n",
       "  </tbody>\n",
       "</table>\n",
       "</div>"
      ],
      "text/plain": [
       "        Equipe  GC  GP\n",
       "0    PALMEIRAS  32  62\n",
       "1       SANTOS  35  59\n",
       "2     FLAMENGO  35  52\n",
       "3     BOTAFOGO  39  43\n",
       "4     ATLÉTICO  32  38\n",
       "5  CORINTHIANS  42  48\n",
       "6       GRÊMIO  44  41"
      ]
     },
     "execution_count": 205,
     "metadata": {},
     "output_type": "execute_result"
    }
   ],
   "source": [
    "df[['Equipe','GC', 'GP']]"
   ]
  },
  {
   "cell_type": "markdown",
   "metadata": {},
   "source": [
    "#### diferenças entre pandas Series e pandas Dataframe"
   ]
  },
  {
   "cell_type": "code",
   "execution_count": 206,
   "metadata": {
    "collapsed": false
   },
   "outputs": [
    {
     "data": {
      "text/plain": [
       "0    32\n",
       "1    35\n",
       "2    35\n",
       "3    39\n",
       "4    32\n",
       "5    42\n",
       "6    44\n",
       "Name: GC, dtype: int64"
      ]
     },
     "execution_count": 206,
     "metadata": {},
     "output_type": "execute_result"
    }
   ],
   "source": [
    "# pandas Series\n",
    "df.GC"
   ]
  },
  {
   "cell_type": "code",
   "execution_count": 207,
   "metadata": {
    "collapsed": false
   },
   "outputs": [
    {
     "data": {
      "text/plain": [
       "pandas.core.series.Series"
      ]
     },
     "execution_count": 207,
     "metadata": {},
     "output_type": "execute_result"
    }
   ],
   "source": [
    "type(df['GC'])"
   ]
  },
  {
   "cell_type": "code",
   "execution_count": 208,
   "metadata": {
    "collapsed": false
   },
   "outputs": [
    {
     "data": {
      "text/html": [
       "<div>\n",
       "<table border=\"1\" class=\"dataframe\">\n",
       "  <thead>\n",
       "    <tr style=\"text-align: right;\">\n",
       "      <th></th>\n",
       "      <th>GC</th>\n",
       "      <th>P</th>\n",
       "    </tr>\n",
       "  </thead>\n",
       "  <tbody>\n",
       "    <tr>\n",
       "      <th>0</th>\n",
       "      <td>32</td>\n",
       "      <td>80</td>\n",
       "    </tr>\n",
       "    <tr>\n",
       "      <th>1</th>\n",
       "      <td>35</td>\n",
       "      <td>71</td>\n",
       "    </tr>\n",
       "    <tr>\n",
       "      <th>2</th>\n",
       "      <td>35</td>\n",
       "      <td>71</td>\n",
       "    </tr>\n",
       "    <tr>\n",
       "      <th>3</th>\n",
       "      <td>39</td>\n",
       "      <td>59</td>\n",
       "    </tr>\n",
       "    <tr>\n",
       "      <th>4</th>\n",
       "      <td>32</td>\n",
       "      <td>57</td>\n",
       "    </tr>\n",
       "    <tr>\n",
       "      <th>5</th>\n",
       "      <td>42</td>\n",
       "      <td>55</td>\n",
       "    </tr>\n",
       "    <tr>\n",
       "      <th>6</th>\n",
       "      <td>44</td>\n",
       "      <td>53</td>\n",
       "    </tr>\n",
       "  </tbody>\n",
       "</table>\n",
       "</div>"
      ],
      "text/plain": [
       "   GC   P\n",
       "0  32  80\n",
       "1  35  71\n",
       "2  35  71\n",
       "3  39  59\n",
       "4  32  57\n",
       "5  42  55\n",
       "6  44  53"
      ]
     },
     "execution_count": 208,
     "metadata": {},
     "output_type": "execute_result"
    }
   ],
   "source": [
    "df[['GC','P']]"
   ]
  },
  {
   "cell_type": "code",
   "execution_count": 209,
   "metadata": {
    "collapsed": false
   },
   "outputs": [
    {
     "data": {
      "text/plain": [
       "pandas.core.frame.DataFrame"
      ]
     },
     "execution_count": 209,
     "metadata": {},
     "output_type": "execute_result"
    }
   ],
   "source": [
    "type(df[['GC','P']])"
   ]
  },
  {
   "cell_type": "code",
   "execution_count": 210,
   "metadata": {
    "collapsed": false
   },
   "outputs": [
    {
     "data": {
      "text/html": [
       "<div>\n",
       "<table border=\"1\" class=\"dataframe\">\n",
       "  <thead>\n",
       "    <tr style=\"text-align: right;\">\n",
       "      <th></th>\n",
       "      <th>GC</th>\n",
       "    </tr>\n",
       "  </thead>\n",
       "  <tbody>\n",
       "    <tr>\n",
       "      <th>0</th>\n",
       "      <td>32</td>\n",
       "    </tr>\n",
       "    <tr>\n",
       "      <th>1</th>\n",
       "      <td>35</td>\n",
       "    </tr>\n",
       "    <tr>\n",
       "      <th>2</th>\n",
       "      <td>35</td>\n",
       "    </tr>\n",
       "    <tr>\n",
       "      <th>3</th>\n",
       "      <td>39</td>\n",
       "    </tr>\n",
       "    <tr>\n",
       "      <th>4</th>\n",
       "      <td>32</td>\n",
       "    </tr>\n",
       "    <tr>\n",
       "      <th>5</th>\n",
       "      <td>42</td>\n",
       "    </tr>\n",
       "    <tr>\n",
       "      <th>6</th>\n",
       "      <td>44</td>\n",
       "    </tr>\n",
       "  </tbody>\n",
       "</table>\n",
       "</div>"
      ],
      "text/plain": [
       "   GC\n",
       "0  32\n",
       "1  35\n",
       "2  35\n",
       "3  39\n",
       "4  32\n",
       "5  42\n",
       "6  44"
      ]
     },
     "execution_count": 210,
     "metadata": {},
     "output_type": "execute_result"
    }
   ],
   "source": [
    "df[['GC']]"
   ]
  },
  {
   "cell_type": "code",
   "execution_count": null,
   "metadata": {
    "collapsed": true
   },
   "outputs": [],
   "source": []
  },
  {
   "cell_type": "code",
   "execution_count": 211,
   "metadata": {
    "collapsed": false
   },
   "outputs": [],
   "source": [
    "df.index = list('abcdefg')"
   ]
  },
  {
   "cell_type": "code",
   "execution_count": 212,
   "metadata": {
    "collapsed": false
   },
   "outputs": [
    {
     "data": {
      "text/html": [
       "<div>\n",
       "<table border=\"1\" class=\"dataframe\">\n",
       "  <thead>\n",
       "    <tr style=\"text-align: right;\">\n",
       "      <th></th>\n",
       "      <th>Equipe</th>\n",
       "      <th>UF</th>\n",
       "      <th>P</th>\n",
       "      <th>J</th>\n",
       "      <th>V</th>\n",
       "      <th>E</th>\n",
       "      <th>D</th>\n",
       "      <th>GP</th>\n",
       "      <th>GC</th>\n",
       "      <th>SG</th>\n",
       "      <th>VM</th>\n",
       "      <th>VV</th>\n",
       "      <th>DM</th>\n",
       "      <th>DV</th>\n",
       "      <th>CA</th>\n",
       "      <th>CV</th>\n",
       "      <th>%</th>\n",
       "    </tr>\n",
       "  </thead>\n",
       "  <tbody>\n",
       "    <tr>\n",
       "      <th>a</th>\n",
       "      <td>PALMEIRAS</td>\n",
       "      <td>SP</td>\n",
       "      <td>80</td>\n",
       "      <td>38</td>\n",
       "      <td>24</td>\n",
       "      <td>8</td>\n",
       "      <td>6</td>\n",
       "      <td>62</td>\n",
       "      <td>32</td>\n",
       "      <td>30</td>\n",
       "      <td>14</td>\n",
       "      <td>10</td>\n",
       "      <td>1</td>\n",
       "      <td>5</td>\n",
       "      <td>95</td>\n",
       "      <td>0</td>\n",
       "      <td>70</td>\n",
       "    </tr>\n",
       "    <tr>\n",
       "      <th>b</th>\n",
       "      <td>SANTOS</td>\n",
       "      <td>SP</td>\n",
       "      <td>71</td>\n",
       "      <td>38</td>\n",
       "      <td>22</td>\n",
       "      <td>5</td>\n",
       "      <td>11</td>\n",
       "      <td>59</td>\n",
       "      <td>35</td>\n",
       "      <td>24</td>\n",
       "      <td>15</td>\n",
       "      <td>7</td>\n",
       "      <td>2</td>\n",
       "      <td>9</td>\n",
       "      <td>74</td>\n",
       "      <td>4</td>\n",
       "      <td>62</td>\n",
       "    </tr>\n",
       "    <tr>\n",
       "      <th>c</th>\n",
       "      <td>FLAMENGO</td>\n",
       "      <td>RJ</td>\n",
       "      <td>71</td>\n",
       "      <td>38</td>\n",
       "      <td>20</td>\n",
       "      <td>11</td>\n",
       "      <td>7</td>\n",
       "      <td>52</td>\n",
       "      <td>35</td>\n",
       "      <td>17</td>\n",
       "      <td>12</td>\n",
       "      <td>8</td>\n",
       "      <td>2</td>\n",
       "      <td>5</td>\n",
       "      <td>62</td>\n",
       "      <td>5</td>\n",
       "      <td>62</td>\n",
       "    </tr>\n",
       "    <tr>\n",
       "      <th>d</th>\n",
       "      <td>BOTAFOGO</td>\n",
       "      <td>RJ</td>\n",
       "      <td>59</td>\n",
       "      <td>38</td>\n",
       "      <td>17</td>\n",
       "      <td>8</td>\n",
       "      <td>13</td>\n",
       "      <td>43</td>\n",
       "      <td>39</td>\n",
       "      <td>4</td>\n",
       "      <td>10</td>\n",
       "      <td>7</td>\n",
       "      <td>4</td>\n",
       "      <td>9</td>\n",
       "      <td>93</td>\n",
       "      <td>2</td>\n",
       "      <td>51</td>\n",
       "    </tr>\n",
       "    <tr>\n",
       "      <th>e</th>\n",
       "      <td>ATLÉTICO</td>\n",
       "      <td>PR</td>\n",
       "      <td>57</td>\n",
       "      <td>38</td>\n",
       "      <td>17</td>\n",
       "      <td>6</td>\n",
       "      <td>15</td>\n",
       "      <td>38</td>\n",
       "      <td>32</td>\n",
       "      <td>6</td>\n",
       "      <td>15</td>\n",
       "      <td>2</td>\n",
       "      <td>1</td>\n",
       "      <td>14</td>\n",
       "      <td>76</td>\n",
       "      <td>1</td>\n",
       "      <td>50</td>\n",
       "    </tr>\n",
       "    <tr>\n",
       "      <th>f</th>\n",
       "      <td>CORINTHIANS</td>\n",
       "      <td>SP</td>\n",
       "      <td>55</td>\n",
       "      <td>38</td>\n",
       "      <td>15</td>\n",
       "      <td>10</td>\n",
       "      <td>13</td>\n",
       "      <td>48</td>\n",
       "      <td>42</td>\n",
       "      <td>6</td>\n",
       "      <td>10</td>\n",
       "      <td>5</td>\n",
       "      <td>2</td>\n",
       "      <td>11</td>\n",
       "      <td>76</td>\n",
       "      <td>5</td>\n",
       "      <td>48</td>\n",
       "    </tr>\n",
       "    <tr>\n",
       "      <th>g</th>\n",
       "      <td>GRÊMIO</td>\n",
       "      <td>RS</td>\n",
       "      <td>53</td>\n",
       "      <td>38</td>\n",
       "      <td>14</td>\n",
       "      <td>11</td>\n",
       "      <td>13</td>\n",
       "      <td>41</td>\n",
       "      <td>44</td>\n",
       "      <td>-3</td>\n",
       "      <td>11</td>\n",
       "      <td>3</td>\n",
       "      <td>4</td>\n",
       "      <td>9</td>\n",
       "      <td>93</td>\n",
       "      <td>6</td>\n",
       "      <td>46</td>\n",
       "    </tr>\n",
       "  </tbody>\n",
       "</table>\n",
       "</div>"
      ],
      "text/plain": [
       "        Equipe  UF   P   J   V   E   D  GP  GC  SG  VM  VV  DM  DV  CA  CV   %\n",
       "a    PALMEIRAS  SP  80  38  24   8   6  62  32  30  14  10   1   5  95   0  70\n",
       "b       SANTOS  SP  71  38  22   5  11  59  35  24  15   7   2   9  74   4  62\n",
       "c     FLAMENGO  RJ  71  38  20  11   7  52  35  17  12   8   2   5  62   5  62\n",
       "d     BOTAFOGO  RJ  59  38  17   8  13  43  39   4  10   7   4   9  93   2  51\n",
       "e     ATLÉTICO  PR  57  38  17   6  15  38  32   6  15   2   1  14  76   1  50\n",
       "f  CORINTHIANS  SP  55  38  15  10  13  48  42   6  10   5   2  11  76   5  48\n",
       "g       GRÊMIO  RS  53  38  14  11  13  41  44  -3  11   3   4   9  93   6  46"
      ]
     },
     "execution_count": 212,
     "metadata": {},
     "output_type": "execute_result"
    }
   ],
   "source": [
    "df"
   ]
  },
  {
   "cell_type": "markdown",
   "metadata": {},
   "source": [
    "#### Outras 3 maneiras de indexar e slicing: loc, iloc, ix"
   ]
  },
  {
   "cell_type": "code",
   "execution_count": 213,
   "metadata": {
    "collapsed": false
   },
   "outputs": [
    {
     "data": {
      "text/plain": [
       "a    38\n",
       "b    38\n",
       "c    38\n",
       "Name: J, dtype: int64"
      ]
     },
     "execution_count": 213,
     "metadata": {},
     "output_type": "execute_result"
    }
   ],
   "source": [
    "df.loc['a':'c','J']"
   ]
  },
  {
   "cell_type": "code",
   "execution_count": 214,
   "metadata": {
    "collapsed": false
   },
   "outputs": [
    {
     "data": {
      "text/html": [
       "<div>\n",
       "<table border=\"1\" class=\"dataframe\">\n",
       "  <thead>\n",
       "    <tr style=\"text-align: right;\">\n",
       "      <th></th>\n",
       "      <th>P</th>\n",
       "      <th>V</th>\n",
       "    </tr>\n",
       "  </thead>\n",
       "  <tbody>\n",
       "    <tr>\n",
       "      <th>a</th>\n",
       "      <td>80</td>\n",
       "      <td>24</td>\n",
       "    </tr>\n",
       "    <tr>\n",
       "      <th>b</th>\n",
       "      <td>71</td>\n",
       "      <td>22</td>\n",
       "    </tr>\n",
       "    <tr>\n",
       "      <th>c</th>\n",
       "      <td>71</td>\n",
       "      <td>20</td>\n",
       "    </tr>\n",
       "  </tbody>\n",
       "</table>\n",
       "</div>"
      ],
      "text/plain": [
       "    P   V\n",
       "a  80  24\n",
       "b  71  22\n",
       "c  71  20"
      ]
     },
     "execution_count": 214,
     "metadata": {},
     "output_type": "execute_result"
    }
   ],
   "source": [
    "df.loc['a':'c',['P', 'V']]"
   ]
  },
  {
   "cell_type": "code",
   "execution_count": 215,
   "metadata": {
    "collapsed": false
   },
   "outputs": [
    {
     "data": {
      "text/html": [
       "<div>\n",
       "<table border=\"1\" class=\"dataframe\">\n",
       "  <thead>\n",
       "    <tr style=\"text-align: right;\">\n",
       "      <th></th>\n",
       "      <th>Equipe</th>\n",
       "      <th>UF</th>\n",
       "      <th>P</th>\n",
       "      <th>J</th>\n",
       "      <th>V</th>\n",
       "      <th>E</th>\n",
       "      <th>D</th>\n",
       "      <th>GP</th>\n",
       "      <th>GC</th>\n",
       "      <th>SG</th>\n",
       "      <th>VM</th>\n",
       "      <th>VV</th>\n",
       "      <th>DM</th>\n",
       "      <th>DV</th>\n",
       "      <th>CA</th>\n",
       "      <th>CV</th>\n",
       "      <th>%</th>\n",
       "    </tr>\n",
       "  </thead>\n",
       "  <tbody>\n",
       "    <tr>\n",
       "      <th>a</th>\n",
       "      <td>PALMEIRAS</td>\n",
       "      <td>SP</td>\n",
       "      <td>80</td>\n",
       "      <td>38</td>\n",
       "      <td>24</td>\n",
       "      <td>8</td>\n",
       "      <td>6</td>\n",
       "      <td>62</td>\n",
       "      <td>32</td>\n",
       "      <td>30</td>\n",
       "      <td>14</td>\n",
       "      <td>10</td>\n",
       "      <td>1</td>\n",
       "      <td>5</td>\n",
       "      <td>95</td>\n",
       "      <td>0</td>\n",
       "      <td>70</td>\n",
       "    </tr>\n",
       "    <tr>\n",
       "      <th>d</th>\n",
       "      <td>BOTAFOGO</td>\n",
       "      <td>RJ</td>\n",
       "      <td>59</td>\n",
       "      <td>38</td>\n",
       "      <td>17</td>\n",
       "      <td>8</td>\n",
       "      <td>13</td>\n",
       "      <td>43</td>\n",
       "      <td>39</td>\n",
       "      <td>4</td>\n",
       "      <td>10</td>\n",
       "      <td>7</td>\n",
       "      <td>4</td>\n",
       "      <td>9</td>\n",
       "      <td>93</td>\n",
       "      <td>2</td>\n",
       "      <td>51</td>\n",
       "    </tr>\n",
       "    <tr>\n",
       "      <th>e</th>\n",
       "      <td>ATLÉTICO</td>\n",
       "      <td>PR</td>\n",
       "      <td>57</td>\n",
       "      <td>38</td>\n",
       "      <td>17</td>\n",
       "      <td>6</td>\n",
       "      <td>15</td>\n",
       "      <td>38</td>\n",
       "      <td>32</td>\n",
       "      <td>6</td>\n",
       "      <td>15</td>\n",
       "      <td>2</td>\n",
       "      <td>1</td>\n",
       "      <td>14</td>\n",
       "      <td>76</td>\n",
       "      <td>1</td>\n",
       "      <td>50</td>\n",
       "    </tr>\n",
       "  </tbody>\n",
       "</table>\n",
       "</div>"
      ],
      "text/plain": [
       "      Equipe  UF   P   J   V  E   D  GP  GC  SG  VM  VV  DM  DV  CA  CV   %\n",
       "a  PALMEIRAS  SP  80  38  24  8   6  62  32  30  14  10   1   5  95   0  70\n",
       "d   BOTAFOGO  RJ  59  38  17  8  13  43  39   4  10   7   4   9  93   2  51\n",
       "e   ATLÉTICO  PR  57  38  17  6  15  38  32   6  15   2   1  14  76   1  50"
      ]
     },
     "execution_count": 215,
     "metadata": {},
     "output_type": "execute_result"
    }
   ],
   "source": [
    "df.loc[['a','d','e'],:]"
   ]
  },
  {
   "cell_type": "code",
   "execution_count": 216,
   "metadata": {
    "collapsed": false
   },
   "outputs": [
    {
     "data": {
      "text/plain": [
       "'SP'"
      ]
     },
     "execution_count": 216,
     "metadata": {},
     "output_type": "execute_result"
    }
   ],
   "source": [
    "df.get_value('a','UF')"
   ]
  },
  {
   "cell_type": "code",
   "execution_count": 217,
   "metadata": {
    "collapsed": false
   },
   "outputs": [],
   "source": [
    "UF_palmeiras = df.loc['a','UF']"
   ]
  },
  {
   "cell_type": "code",
   "execution_count": 218,
   "metadata": {
    "collapsed": false
   },
   "outputs": [
    {
     "data": {
      "text/plain": [
       "'SP'"
      ]
     },
     "execution_count": 218,
     "metadata": {},
     "output_type": "execute_result"
    }
   ],
   "source": [
    "UF_palmeiras"
   ]
  },
  {
   "cell_type": "code",
   "execution_count": 219,
   "metadata": {
    "collapsed": true
   },
   "outputs": [],
   "source": [
    "df.loc['a','UF'] = \"Sao Paulo\""
   ]
  },
  {
   "cell_type": "code",
   "execution_count": 220,
   "metadata": {
    "collapsed": false
   },
   "outputs": [
    {
     "data": {
      "text/html": [
       "<div>\n",
       "<table border=\"1\" class=\"dataframe\">\n",
       "  <thead>\n",
       "    <tr style=\"text-align: right;\">\n",
       "      <th></th>\n",
       "      <th>Equipe</th>\n",
       "      <th>UF</th>\n",
       "      <th>P</th>\n",
       "      <th>J</th>\n",
       "      <th>V</th>\n",
       "      <th>E</th>\n",
       "      <th>D</th>\n",
       "      <th>GP</th>\n",
       "      <th>GC</th>\n",
       "      <th>SG</th>\n",
       "      <th>VM</th>\n",
       "      <th>VV</th>\n",
       "      <th>DM</th>\n",
       "      <th>DV</th>\n",
       "      <th>CA</th>\n",
       "      <th>CV</th>\n",
       "      <th>%</th>\n",
       "    </tr>\n",
       "  </thead>\n",
       "  <tbody>\n",
       "    <tr>\n",
       "      <th>a</th>\n",
       "      <td>PALMEIRAS</td>\n",
       "      <td>Sao Paulo</td>\n",
       "      <td>80</td>\n",
       "      <td>38</td>\n",
       "      <td>24</td>\n",
       "      <td>8</td>\n",
       "      <td>6</td>\n",
       "      <td>62</td>\n",
       "      <td>32</td>\n",
       "      <td>30</td>\n",
       "      <td>14</td>\n",
       "      <td>10</td>\n",
       "      <td>1</td>\n",
       "      <td>5</td>\n",
       "      <td>95</td>\n",
       "      <td>0</td>\n",
       "      <td>70</td>\n",
       "    </tr>\n",
       "    <tr>\n",
       "      <th>b</th>\n",
       "      <td>SANTOS</td>\n",
       "      <td>SP</td>\n",
       "      <td>71</td>\n",
       "      <td>38</td>\n",
       "      <td>22</td>\n",
       "      <td>5</td>\n",
       "      <td>11</td>\n",
       "      <td>59</td>\n",
       "      <td>35</td>\n",
       "      <td>24</td>\n",
       "      <td>15</td>\n",
       "      <td>7</td>\n",
       "      <td>2</td>\n",
       "      <td>9</td>\n",
       "      <td>74</td>\n",
       "      <td>4</td>\n",
       "      <td>62</td>\n",
       "    </tr>\n",
       "    <tr>\n",
       "      <th>c</th>\n",
       "      <td>FLAMENGO</td>\n",
       "      <td>RJ</td>\n",
       "      <td>71</td>\n",
       "      <td>38</td>\n",
       "      <td>20</td>\n",
       "      <td>11</td>\n",
       "      <td>7</td>\n",
       "      <td>52</td>\n",
       "      <td>35</td>\n",
       "      <td>17</td>\n",
       "      <td>12</td>\n",
       "      <td>8</td>\n",
       "      <td>2</td>\n",
       "      <td>5</td>\n",
       "      <td>62</td>\n",
       "      <td>5</td>\n",
       "      <td>62</td>\n",
       "    </tr>\n",
       "    <tr>\n",
       "      <th>d</th>\n",
       "      <td>BOTAFOGO</td>\n",
       "      <td>RJ</td>\n",
       "      <td>59</td>\n",
       "      <td>38</td>\n",
       "      <td>17</td>\n",
       "      <td>8</td>\n",
       "      <td>13</td>\n",
       "      <td>43</td>\n",
       "      <td>39</td>\n",
       "      <td>4</td>\n",
       "      <td>10</td>\n",
       "      <td>7</td>\n",
       "      <td>4</td>\n",
       "      <td>9</td>\n",
       "      <td>93</td>\n",
       "      <td>2</td>\n",
       "      <td>51</td>\n",
       "    </tr>\n",
       "    <tr>\n",
       "      <th>e</th>\n",
       "      <td>ATLÉTICO</td>\n",
       "      <td>PR</td>\n",
       "      <td>57</td>\n",
       "      <td>38</td>\n",
       "      <td>17</td>\n",
       "      <td>6</td>\n",
       "      <td>15</td>\n",
       "      <td>38</td>\n",
       "      <td>32</td>\n",
       "      <td>6</td>\n",
       "      <td>15</td>\n",
       "      <td>2</td>\n",
       "      <td>1</td>\n",
       "      <td>14</td>\n",
       "      <td>76</td>\n",
       "      <td>1</td>\n",
       "      <td>50</td>\n",
       "    </tr>\n",
       "    <tr>\n",
       "      <th>f</th>\n",
       "      <td>CORINTHIANS</td>\n",
       "      <td>SP</td>\n",
       "      <td>55</td>\n",
       "      <td>38</td>\n",
       "      <td>15</td>\n",
       "      <td>10</td>\n",
       "      <td>13</td>\n",
       "      <td>48</td>\n",
       "      <td>42</td>\n",
       "      <td>6</td>\n",
       "      <td>10</td>\n",
       "      <td>5</td>\n",
       "      <td>2</td>\n",
       "      <td>11</td>\n",
       "      <td>76</td>\n",
       "      <td>5</td>\n",
       "      <td>48</td>\n",
       "    </tr>\n",
       "    <tr>\n",
       "      <th>g</th>\n",
       "      <td>GRÊMIO</td>\n",
       "      <td>RS</td>\n",
       "      <td>53</td>\n",
       "      <td>38</td>\n",
       "      <td>14</td>\n",
       "      <td>11</td>\n",
       "      <td>13</td>\n",
       "      <td>41</td>\n",
       "      <td>44</td>\n",
       "      <td>-3</td>\n",
       "      <td>11</td>\n",
       "      <td>3</td>\n",
       "      <td>4</td>\n",
       "      <td>9</td>\n",
       "      <td>93</td>\n",
       "      <td>6</td>\n",
       "      <td>46</td>\n",
       "    </tr>\n",
       "  </tbody>\n",
       "</table>\n",
       "</div>"
      ],
      "text/plain": [
       "        Equipe         UF   P   J   V   E   D  GP  GC  SG  VM  VV  DM  DV  CA  \\\n",
       "a    PALMEIRAS  Sao Paulo  80  38  24   8   6  62  32  30  14  10   1   5  95   \n",
       "b       SANTOS         SP  71  38  22   5  11  59  35  24  15   7   2   9  74   \n",
       "c     FLAMENGO         RJ  71  38  20  11   7  52  35  17  12   8   2   5  62   \n",
       "d     BOTAFOGO         RJ  59  38  17   8  13  43  39   4  10   7   4   9  93   \n",
       "e     ATLÉTICO         PR  57  38  17   6  15  38  32   6  15   2   1  14  76   \n",
       "f  CORINTHIANS         SP  55  38  15  10  13  48  42   6  10   5   2  11  76   \n",
       "g       GRÊMIO         RS  53  38  14  11  13  41  44  -3  11   3   4   9  93   \n",
       "\n",
       "   CV   %  \n",
       "a   0  70  \n",
       "b   4  62  \n",
       "c   5  62  \n",
       "d   2  51  \n",
       "e   1  50  \n",
       "f   5  48  \n",
       "g   6  46  "
      ]
     },
     "execution_count": 220,
     "metadata": {},
     "output_type": "execute_result"
    }
   ],
   "source": [
    "df"
   ]
  },
  {
   "cell_type": "code",
   "execution_count": 221,
   "metadata": {
    "collapsed": true
   },
   "outputs": [],
   "source": [
    "df.loc[['a', 'b', 'f'], 'UF'] = \"Sao Paulo\""
   ]
  },
  {
   "cell_type": "code",
   "execution_count": 222,
   "metadata": {
    "collapsed": false
   },
   "outputs": [
    {
     "data": {
      "text/html": [
       "<div>\n",
       "<table border=\"1\" class=\"dataframe\">\n",
       "  <thead>\n",
       "    <tr style=\"text-align: right;\">\n",
       "      <th></th>\n",
       "      <th>Equipe</th>\n",
       "      <th>UF</th>\n",
       "      <th>P</th>\n",
       "      <th>J</th>\n",
       "      <th>V</th>\n",
       "      <th>E</th>\n",
       "      <th>D</th>\n",
       "      <th>GP</th>\n",
       "      <th>GC</th>\n",
       "      <th>SG</th>\n",
       "      <th>VM</th>\n",
       "      <th>VV</th>\n",
       "      <th>DM</th>\n",
       "      <th>DV</th>\n",
       "      <th>CA</th>\n",
       "      <th>CV</th>\n",
       "      <th>%</th>\n",
       "    </tr>\n",
       "  </thead>\n",
       "  <tbody>\n",
       "    <tr>\n",
       "      <th>a</th>\n",
       "      <td>PALMEIRAS</td>\n",
       "      <td>Sao Paulo</td>\n",
       "      <td>80</td>\n",
       "      <td>38</td>\n",
       "      <td>24</td>\n",
       "      <td>8</td>\n",
       "      <td>6</td>\n",
       "      <td>62</td>\n",
       "      <td>32</td>\n",
       "      <td>30</td>\n",
       "      <td>14</td>\n",
       "      <td>10</td>\n",
       "      <td>1</td>\n",
       "      <td>5</td>\n",
       "      <td>95</td>\n",
       "      <td>0</td>\n",
       "      <td>70</td>\n",
       "    </tr>\n",
       "    <tr>\n",
       "      <th>b</th>\n",
       "      <td>SANTOS</td>\n",
       "      <td>Sao Paulo</td>\n",
       "      <td>71</td>\n",
       "      <td>38</td>\n",
       "      <td>22</td>\n",
       "      <td>5</td>\n",
       "      <td>11</td>\n",
       "      <td>59</td>\n",
       "      <td>35</td>\n",
       "      <td>24</td>\n",
       "      <td>15</td>\n",
       "      <td>7</td>\n",
       "      <td>2</td>\n",
       "      <td>9</td>\n",
       "      <td>74</td>\n",
       "      <td>4</td>\n",
       "      <td>62</td>\n",
       "    </tr>\n",
       "    <tr>\n",
       "      <th>c</th>\n",
       "      <td>FLAMENGO</td>\n",
       "      <td>RJ</td>\n",
       "      <td>71</td>\n",
       "      <td>38</td>\n",
       "      <td>20</td>\n",
       "      <td>11</td>\n",
       "      <td>7</td>\n",
       "      <td>52</td>\n",
       "      <td>35</td>\n",
       "      <td>17</td>\n",
       "      <td>12</td>\n",
       "      <td>8</td>\n",
       "      <td>2</td>\n",
       "      <td>5</td>\n",
       "      <td>62</td>\n",
       "      <td>5</td>\n",
       "      <td>62</td>\n",
       "    </tr>\n",
       "    <tr>\n",
       "      <th>d</th>\n",
       "      <td>BOTAFOGO</td>\n",
       "      <td>RJ</td>\n",
       "      <td>59</td>\n",
       "      <td>38</td>\n",
       "      <td>17</td>\n",
       "      <td>8</td>\n",
       "      <td>13</td>\n",
       "      <td>43</td>\n",
       "      <td>39</td>\n",
       "      <td>4</td>\n",
       "      <td>10</td>\n",
       "      <td>7</td>\n",
       "      <td>4</td>\n",
       "      <td>9</td>\n",
       "      <td>93</td>\n",
       "      <td>2</td>\n",
       "      <td>51</td>\n",
       "    </tr>\n",
       "    <tr>\n",
       "      <th>e</th>\n",
       "      <td>ATLÉTICO</td>\n",
       "      <td>PR</td>\n",
       "      <td>57</td>\n",
       "      <td>38</td>\n",
       "      <td>17</td>\n",
       "      <td>6</td>\n",
       "      <td>15</td>\n",
       "      <td>38</td>\n",
       "      <td>32</td>\n",
       "      <td>6</td>\n",
       "      <td>15</td>\n",
       "      <td>2</td>\n",
       "      <td>1</td>\n",
       "      <td>14</td>\n",
       "      <td>76</td>\n",
       "      <td>1</td>\n",
       "      <td>50</td>\n",
       "    </tr>\n",
       "    <tr>\n",
       "      <th>f</th>\n",
       "      <td>CORINTHIANS</td>\n",
       "      <td>Sao Paulo</td>\n",
       "      <td>55</td>\n",
       "      <td>38</td>\n",
       "      <td>15</td>\n",
       "      <td>10</td>\n",
       "      <td>13</td>\n",
       "      <td>48</td>\n",
       "      <td>42</td>\n",
       "      <td>6</td>\n",
       "      <td>10</td>\n",
       "      <td>5</td>\n",
       "      <td>2</td>\n",
       "      <td>11</td>\n",
       "      <td>76</td>\n",
       "      <td>5</td>\n",
       "      <td>48</td>\n",
       "    </tr>\n",
       "    <tr>\n",
       "      <th>g</th>\n",
       "      <td>GRÊMIO</td>\n",
       "      <td>RS</td>\n",
       "      <td>53</td>\n",
       "      <td>38</td>\n",
       "      <td>14</td>\n",
       "      <td>11</td>\n",
       "      <td>13</td>\n",
       "      <td>41</td>\n",
       "      <td>44</td>\n",
       "      <td>-3</td>\n",
       "      <td>11</td>\n",
       "      <td>3</td>\n",
       "      <td>4</td>\n",
       "      <td>9</td>\n",
       "      <td>93</td>\n",
       "      <td>6</td>\n",
       "      <td>46</td>\n",
       "    </tr>\n",
       "  </tbody>\n",
       "</table>\n",
       "</div>"
      ],
      "text/plain": [
       "        Equipe         UF   P   J   V   E   D  GP  GC  SG  VM  VV  DM  DV  CA  \\\n",
       "a    PALMEIRAS  Sao Paulo  80  38  24   8   6  62  32  30  14  10   1   5  95   \n",
       "b       SANTOS  Sao Paulo  71  38  22   5  11  59  35  24  15   7   2   9  74   \n",
       "c     FLAMENGO         RJ  71  38  20  11   7  52  35  17  12   8   2   5  62   \n",
       "d     BOTAFOGO         RJ  59  38  17   8  13  43  39   4  10   7   4   9  93   \n",
       "e     ATLÉTICO         PR  57  38  17   6  15  38  32   6  15   2   1  14  76   \n",
       "f  CORINTHIANS  Sao Paulo  55  38  15  10  13  48  42   6  10   5   2  11  76   \n",
       "g       GRÊMIO         RS  53  38  14  11  13  41  44  -3  11   3   4   9  93   \n",
       "\n",
       "   CV   %  \n",
       "a   0  70  \n",
       "b   4  62  \n",
       "c   5  62  \n",
       "d   2  51  \n",
       "e   1  50  \n",
       "f   5  48  \n",
       "g   6  46  "
      ]
     },
     "execution_count": 222,
     "metadata": {},
     "output_type": "execute_result"
    }
   ],
   "source": [
    "df"
   ]
  },
  {
   "cell_type": "code",
   "execution_count": 223,
   "metadata": {
    "collapsed": false
   },
   "outputs": [
    {
     "data": {
      "text/html": [
       "<div>\n",
       "<table border=\"1\" class=\"dataframe\">\n",
       "  <thead>\n",
       "    <tr style=\"text-align: right;\">\n",
       "      <th></th>\n",
       "      <th>P</th>\n",
       "      <th>J</th>\n",
       "    </tr>\n",
       "  </thead>\n",
       "  <tbody>\n",
       "    <tr>\n",
       "      <th>b</th>\n",
       "      <td>71</td>\n",
       "      <td>38</td>\n",
       "    </tr>\n",
       "    <tr>\n",
       "      <th>c</th>\n",
       "      <td>71</td>\n",
       "      <td>38</td>\n",
       "    </tr>\n",
       "  </tbody>\n",
       "</table>\n",
       "</div>"
      ],
      "text/plain": [
       "    P   J\n",
       "b  71  38\n",
       "c  71  38"
      ]
     },
     "execution_count": 223,
     "metadata": {},
     "output_type": "execute_result"
    }
   ],
   "source": [
    "df.iloc[1:3,2:4]"
   ]
  },
  {
   "cell_type": "code",
   "execution_count": 224,
   "metadata": {
    "collapsed": false
   },
   "outputs": [
    {
     "data": {
      "text/html": [
       "<div>\n",
       "<table border=\"1\" class=\"dataframe\">\n",
       "  <thead>\n",
       "    <tr style=\"text-align: right;\">\n",
       "      <th></th>\n",
       "      <th>P</th>\n",
       "      <th>J</th>\n",
       "    </tr>\n",
       "  </thead>\n",
       "  <tbody>\n",
       "    <tr>\n",
       "      <th>a</th>\n",
       "      <td>80</td>\n",
       "      <td>38</td>\n",
       "    </tr>\n",
       "    <tr>\n",
       "      <th>b</th>\n",
       "      <td>71</td>\n",
       "      <td>38</td>\n",
       "    </tr>\n",
       "    <tr>\n",
       "      <th>c</th>\n",
       "      <td>71</td>\n",
       "      <td>38</td>\n",
       "    </tr>\n",
       "    <tr>\n",
       "      <th>d</th>\n",
       "      <td>59</td>\n",
       "      <td>38</td>\n",
       "    </tr>\n",
       "  </tbody>\n",
       "</table>\n",
       "</div>"
      ],
      "text/plain": [
       "    P   J\n",
       "a  80  38\n",
       "b  71  38\n",
       "c  71  38\n",
       "d  59  38"
      ]
     },
     "execution_count": 224,
     "metadata": {},
     "output_type": "execute_result"
    }
   ],
   "source": [
    "df.ix['a':'d', 2:4]"
   ]
  },
  {
   "cell_type": "code",
   "execution_count": 225,
   "metadata": {
    "collapsed": false
   },
   "outputs": [
    {
     "data": {
      "text/html": [
       "<div>\n",
       "<table border=\"1\" class=\"dataframe\">\n",
       "  <thead>\n",
       "    <tr style=\"text-align: right;\">\n",
       "      <th></th>\n",
       "      <th>V</th>\n",
       "      <th>D</th>\n",
       "    </tr>\n",
       "  </thead>\n",
       "  <tbody>\n",
       "    <tr>\n",
       "      <th>c</th>\n",
       "      <td>20</td>\n",
       "      <td>7</td>\n",
       "    </tr>\n",
       "    <tr>\n",
       "      <th>d</th>\n",
       "      <td>17</td>\n",
       "      <td>13</td>\n",
       "    </tr>\n",
       "    <tr>\n",
       "      <th>e</th>\n",
       "      <td>17</td>\n",
       "      <td>15</td>\n",
       "    </tr>\n",
       "  </tbody>\n",
       "</table>\n",
       "</div>"
      ],
      "text/plain": [
       "    V   D\n",
       "c  20   7\n",
       "d  17  13\n",
       "e  17  15"
      ]
     },
     "execution_count": 225,
     "metadata": {},
     "output_type": "execute_result"
    }
   ],
   "source": [
    "df.ix[2:5, ['V','D']]"
   ]
  },
  {
   "cell_type": "markdown",
   "metadata": {},
   "source": [
    "#### operacoes sobre colunas"
   ]
  },
  {
   "cell_type": "code",
   "execution_count": 226,
   "metadata": {
    "collapsed": false
   },
   "outputs": [],
   "source": [
    "df_jogos = df[['V','E','D','J']]"
   ]
  },
  {
   "cell_type": "code",
   "execution_count": 227,
   "metadata": {
    "collapsed": false
   },
   "outputs": [
    {
     "data": {
      "text/html": [
       "<div>\n",
       "<table border=\"1\" class=\"dataframe\">\n",
       "  <thead>\n",
       "    <tr style=\"text-align: right;\">\n",
       "      <th></th>\n",
       "      <th>V</th>\n",
       "      <th>E</th>\n",
       "      <th>D</th>\n",
       "      <th>J</th>\n",
       "    </tr>\n",
       "  </thead>\n",
       "  <tbody>\n",
       "    <tr>\n",
       "      <th>a</th>\n",
       "      <td>24</td>\n",
       "      <td>8</td>\n",
       "      <td>6</td>\n",
       "      <td>38</td>\n",
       "    </tr>\n",
       "    <tr>\n",
       "      <th>b</th>\n",
       "      <td>22</td>\n",
       "      <td>5</td>\n",
       "      <td>11</td>\n",
       "      <td>38</td>\n",
       "    </tr>\n",
       "    <tr>\n",
       "      <th>c</th>\n",
       "      <td>20</td>\n",
       "      <td>11</td>\n",
       "      <td>7</td>\n",
       "      <td>38</td>\n",
       "    </tr>\n",
       "    <tr>\n",
       "      <th>d</th>\n",
       "      <td>17</td>\n",
       "      <td>8</td>\n",
       "      <td>13</td>\n",
       "      <td>38</td>\n",
       "    </tr>\n",
       "    <tr>\n",
       "      <th>e</th>\n",
       "      <td>17</td>\n",
       "      <td>6</td>\n",
       "      <td>15</td>\n",
       "      <td>38</td>\n",
       "    </tr>\n",
       "    <tr>\n",
       "      <th>f</th>\n",
       "      <td>15</td>\n",
       "      <td>10</td>\n",
       "      <td>13</td>\n",
       "      <td>38</td>\n",
       "    </tr>\n",
       "    <tr>\n",
       "      <th>g</th>\n",
       "      <td>14</td>\n",
       "      <td>11</td>\n",
       "      <td>13</td>\n",
       "      <td>38</td>\n",
       "    </tr>\n",
       "  </tbody>\n",
       "</table>\n",
       "</div>"
      ],
      "text/plain": [
       "    V   E   D   J\n",
       "a  24   8   6  38\n",
       "b  22   5  11  38\n",
       "c  20  11   7  38\n",
       "d  17   8  13  38\n",
       "e  17   6  15  38\n",
       "f  15  10  13  38\n",
       "g  14  11  13  38"
      ]
     },
     "execution_count": 227,
     "metadata": {},
     "output_type": "execute_result"
    }
   ],
   "source": [
    "df_jogos"
   ]
  },
  {
   "cell_type": "code",
   "execution_count": 228,
   "metadata": {
    "collapsed": false
   },
   "outputs": [
    {
     "name": "stderr",
     "output_type": "stream",
     "text": [
      "/Library/Frameworks/Python.framework/Versions/3.5/lib/python3.5/site-packages/ipykernel/__main__.py:1: SettingWithCopyWarning: \n",
      "A value is trying to be set on a copy of a slice from a DataFrame.\n",
      "Try using .loc[row_indexer,col_indexer] = value instead\n",
      "\n",
      "See the caveats in the documentation: http://pandas.pydata.org/pandas-docs/stable/indexing.html#indexing-view-versus-copy\n",
      "  if __name__ == '__main__':\n"
     ]
    }
   ],
   "source": [
    "df_jogos['total'] = df_jogos.V + df_jogos.E + df_jogos.D"
   ]
  },
  {
   "cell_type": "code",
   "execution_count": 229,
   "metadata": {
    "collapsed": false
   },
   "outputs": [
    {
     "data": {
      "text/html": [
       "<div>\n",
       "<table border=\"1\" class=\"dataframe\">\n",
       "  <thead>\n",
       "    <tr style=\"text-align: right;\">\n",
       "      <th></th>\n",
       "      <th>V</th>\n",
       "      <th>E</th>\n",
       "      <th>D</th>\n",
       "      <th>J</th>\n",
       "      <th>total</th>\n",
       "    </tr>\n",
       "  </thead>\n",
       "  <tbody>\n",
       "    <tr>\n",
       "      <th>a</th>\n",
       "      <td>24</td>\n",
       "      <td>8</td>\n",
       "      <td>6</td>\n",
       "      <td>38</td>\n",
       "      <td>38</td>\n",
       "    </tr>\n",
       "    <tr>\n",
       "      <th>b</th>\n",
       "      <td>22</td>\n",
       "      <td>5</td>\n",
       "      <td>11</td>\n",
       "      <td>38</td>\n",
       "      <td>38</td>\n",
       "    </tr>\n",
       "    <tr>\n",
       "      <th>c</th>\n",
       "      <td>20</td>\n",
       "      <td>11</td>\n",
       "      <td>7</td>\n",
       "      <td>38</td>\n",
       "      <td>38</td>\n",
       "    </tr>\n",
       "    <tr>\n",
       "      <th>d</th>\n",
       "      <td>17</td>\n",
       "      <td>8</td>\n",
       "      <td>13</td>\n",
       "      <td>38</td>\n",
       "      <td>38</td>\n",
       "    </tr>\n",
       "    <tr>\n",
       "      <th>e</th>\n",
       "      <td>17</td>\n",
       "      <td>6</td>\n",
       "      <td>15</td>\n",
       "      <td>38</td>\n",
       "      <td>38</td>\n",
       "    </tr>\n",
       "    <tr>\n",
       "      <th>f</th>\n",
       "      <td>15</td>\n",
       "      <td>10</td>\n",
       "      <td>13</td>\n",
       "      <td>38</td>\n",
       "      <td>38</td>\n",
       "    </tr>\n",
       "    <tr>\n",
       "      <th>g</th>\n",
       "      <td>14</td>\n",
       "      <td>11</td>\n",
       "      <td>13</td>\n",
       "      <td>38</td>\n",
       "      <td>38</td>\n",
       "    </tr>\n",
       "  </tbody>\n",
       "</table>\n",
       "</div>"
      ],
      "text/plain": [
       "    V   E   D   J  total\n",
       "a  24   8   6  38     38\n",
       "b  22   5  11  38     38\n",
       "c  20  11   7  38     38\n",
       "d  17   8  13  38     38\n",
       "e  17   6  15  38     38\n",
       "f  15  10  13  38     38\n",
       "g  14  11  13  38     38"
      ]
     },
     "execution_count": 229,
     "metadata": {},
     "output_type": "execute_result"
    }
   ],
   "source": [
    "df_jogos"
   ]
  },
  {
   "cell_type": "markdown",
   "metadata": {},
   "source": [
    "### Checando as variaveis no namespace"
   ]
  },
  {
   "cell_type": "markdown",
   "metadata": {},
   "source": [
    "##### nome das variaveis"
   ]
  },
  {
   "cell_type": "code",
   "execution_count": 230,
   "metadata": {
    "collapsed": false
   },
   "outputs": [
    {
     "name": "stdout",
     "output_type": "stream",
     "text": [
      "UF_palmeiras\t df\t df_jogos\t filtra_negativos\t filtra_negativos_2\t filtra_negativos_iterator\t i\t m\t media\t \n",
      "media_aritmetica\t media_geometrica\t media_harmonica\t n\t p\t pd\t url\t webbrowser\t \n"
     ]
    }
   ],
   "source": [
    "who"
   ]
  },
  {
   "cell_type": "markdown",
   "metadata": {},
   "source": [
    "##### nome, tipo e info das variaveis"
   ]
  },
  {
   "cell_type": "code",
   "execution_count": 231,
   "metadata": {
    "collapsed": false
   },
   "outputs": [
    {
     "name": "stdout",
     "output_type": "stream",
     "text": [
      "Variable                    Type         Data/Info\n",
      "--------------------------------------------------\n",
      "UF_palmeiras                str          SP\n",
      "df                          DataFrame            Equipe         UF<...>nf   5  48  \\ng   6  46  \n",
      "df_jogos                    DataFrame        V   E   D   J  total\\<...>ng  14  11  13  38     38\n",
      "filtra_negativos            function     <function filtra_negativos at 0x107dd1158>\n",
      "filtra_negativos_2          function     <function filtra_negativos_2 at 0x107dd1950>\n",
      "filtra_negativos_iterator   function     <function filtra_negativo<...>_iterator at 0x107d8ef28>\n",
      "i                           int          10\n",
      "m                           media        <__main__.media object at 0x107dc86d8>\n",
      "media                       type         <class '__main__.media'>\n",
      "media_aritmetica            function     <function media_aritmetica at 0x107dc90d0>\n",
      "media_geometrica            function     <function media_geometrica at 0x107dc9a60>\n",
      "media_harmonica             function     <function media_harmonica at 0x107dc97b8>\n",
      "n                           media        <__main__.media object at 0x105ea1588>\n",
      "p                           int          5\n",
      "pd                          module       <module 'pandas' from '/L<...>ages/pandas/__init__.py'>\n",
      "url                         str          http://www.cbf.com.br/com<...>ficacao/2016#.WJG3B7YrJE4\n",
      "webbrowser                  module       <module 'webbrowser' from<...>python3.5/webbrowser.py'>\n"
     ]
    }
   ],
   "source": [
    "whos"
   ]
  },
  {
   "cell_type": "markdown",
   "metadata": {
    "collapsed": true
   },
   "source": [
    "### sort"
   ]
  },
  {
   "cell_type": "code",
   "execution_count": 232,
   "metadata": {
    "collapsed": false
   },
   "outputs": [
    {
     "data": {
      "text/html": [
       "<div>\n",
       "<table border=\"1\" class=\"dataframe\">\n",
       "  <thead>\n",
       "    <tr style=\"text-align: right;\">\n",
       "      <th></th>\n",
       "      <th>Equipe</th>\n",
       "      <th>UF</th>\n",
       "      <th>P</th>\n",
       "      <th>J</th>\n",
       "      <th>V</th>\n",
       "      <th>E</th>\n",
       "      <th>D</th>\n",
       "      <th>GP</th>\n",
       "      <th>GC</th>\n",
       "      <th>SG</th>\n",
       "      <th>VM</th>\n",
       "      <th>VV</th>\n",
       "      <th>DM</th>\n",
       "      <th>DV</th>\n",
       "      <th>CA</th>\n",
       "      <th>CV</th>\n",
       "      <th>%</th>\n",
       "    </tr>\n",
       "  </thead>\n",
       "  <tbody>\n",
       "    <tr>\n",
       "      <th>a</th>\n",
       "      <td>PALMEIRAS</td>\n",
       "      <td>Sao Paulo</td>\n",
       "      <td>80</td>\n",
       "      <td>38</td>\n",
       "      <td>24</td>\n",
       "      <td>8</td>\n",
       "      <td>6</td>\n",
       "      <td>62</td>\n",
       "      <td>32</td>\n",
       "      <td>30</td>\n",
       "      <td>14</td>\n",
       "      <td>10</td>\n",
       "      <td>1</td>\n",
       "      <td>5</td>\n",
       "      <td>95</td>\n",
       "      <td>0</td>\n",
       "      <td>70</td>\n",
       "    </tr>\n",
       "    <tr>\n",
       "      <th>b</th>\n",
       "      <td>SANTOS</td>\n",
       "      <td>Sao Paulo</td>\n",
       "      <td>71</td>\n",
       "      <td>38</td>\n",
       "      <td>22</td>\n",
       "      <td>5</td>\n",
       "      <td>11</td>\n",
       "      <td>59</td>\n",
       "      <td>35</td>\n",
       "      <td>24</td>\n",
       "      <td>15</td>\n",
       "      <td>7</td>\n",
       "      <td>2</td>\n",
       "      <td>9</td>\n",
       "      <td>74</td>\n",
       "      <td>4</td>\n",
       "      <td>62</td>\n",
       "    </tr>\n",
       "    <tr>\n",
       "      <th>c</th>\n",
       "      <td>FLAMENGO</td>\n",
       "      <td>RJ</td>\n",
       "      <td>71</td>\n",
       "      <td>38</td>\n",
       "      <td>20</td>\n",
       "      <td>11</td>\n",
       "      <td>7</td>\n",
       "      <td>52</td>\n",
       "      <td>35</td>\n",
       "      <td>17</td>\n",
       "      <td>12</td>\n",
       "      <td>8</td>\n",
       "      <td>2</td>\n",
       "      <td>5</td>\n",
       "      <td>62</td>\n",
       "      <td>5</td>\n",
       "      <td>62</td>\n",
       "    </tr>\n",
       "    <tr>\n",
       "      <th>d</th>\n",
       "      <td>BOTAFOGO</td>\n",
       "      <td>RJ</td>\n",
       "      <td>59</td>\n",
       "      <td>38</td>\n",
       "      <td>17</td>\n",
       "      <td>8</td>\n",
       "      <td>13</td>\n",
       "      <td>43</td>\n",
       "      <td>39</td>\n",
       "      <td>4</td>\n",
       "      <td>10</td>\n",
       "      <td>7</td>\n",
       "      <td>4</td>\n",
       "      <td>9</td>\n",
       "      <td>93</td>\n",
       "      <td>2</td>\n",
       "      <td>51</td>\n",
       "    </tr>\n",
       "    <tr>\n",
       "      <th>e</th>\n",
       "      <td>ATLÉTICO</td>\n",
       "      <td>PR</td>\n",
       "      <td>57</td>\n",
       "      <td>38</td>\n",
       "      <td>17</td>\n",
       "      <td>6</td>\n",
       "      <td>15</td>\n",
       "      <td>38</td>\n",
       "      <td>32</td>\n",
       "      <td>6</td>\n",
       "      <td>15</td>\n",
       "      <td>2</td>\n",
       "      <td>1</td>\n",
       "      <td>14</td>\n",
       "      <td>76</td>\n",
       "      <td>1</td>\n",
       "      <td>50</td>\n",
       "    </tr>\n",
       "    <tr>\n",
       "      <th>f</th>\n",
       "      <td>CORINTHIANS</td>\n",
       "      <td>Sao Paulo</td>\n",
       "      <td>55</td>\n",
       "      <td>38</td>\n",
       "      <td>15</td>\n",
       "      <td>10</td>\n",
       "      <td>13</td>\n",
       "      <td>48</td>\n",
       "      <td>42</td>\n",
       "      <td>6</td>\n",
       "      <td>10</td>\n",
       "      <td>5</td>\n",
       "      <td>2</td>\n",
       "      <td>11</td>\n",
       "      <td>76</td>\n",
       "      <td>5</td>\n",
       "      <td>48</td>\n",
       "    </tr>\n",
       "    <tr>\n",
       "      <th>g</th>\n",
       "      <td>GRÊMIO</td>\n",
       "      <td>RS</td>\n",
       "      <td>53</td>\n",
       "      <td>38</td>\n",
       "      <td>14</td>\n",
       "      <td>11</td>\n",
       "      <td>13</td>\n",
       "      <td>41</td>\n",
       "      <td>44</td>\n",
       "      <td>-3</td>\n",
       "      <td>11</td>\n",
       "      <td>3</td>\n",
       "      <td>4</td>\n",
       "      <td>9</td>\n",
       "      <td>93</td>\n",
       "      <td>6</td>\n",
       "      <td>46</td>\n",
       "    </tr>\n",
       "  </tbody>\n",
       "</table>\n",
       "</div>"
      ],
      "text/plain": [
       "        Equipe         UF   P   J   V   E   D  GP  GC  SG  VM  VV  DM  DV  CA  \\\n",
       "a    PALMEIRAS  Sao Paulo  80  38  24   8   6  62  32  30  14  10   1   5  95   \n",
       "b       SANTOS  Sao Paulo  71  38  22   5  11  59  35  24  15   7   2   9  74   \n",
       "c     FLAMENGO         RJ  71  38  20  11   7  52  35  17  12   8   2   5  62   \n",
       "d     BOTAFOGO         RJ  59  38  17   8  13  43  39   4  10   7   4   9  93   \n",
       "e     ATLÉTICO         PR  57  38  17   6  15  38  32   6  15   2   1  14  76   \n",
       "f  CORINTHIANS  Sao Paulo  55  38  15  10  13  48  42   6  10   5   2  11  76   \n",
       "g       GRÊMIO         RS  53  38  14  11  13  41  44  -3  11   3   4   9  93   \n",
       "\n",
       "   CV   %  \n",
       "a   0  70  \n",
       "b   4  62  \n",
       "c   5  62  \n",
       "d   2  51  \n",
       "e   1  50  \n",
       "f   5  48  \n",
       "g   6  46  "
      ]
     },
     "execution_count": 232,
     "metadata": {},
     "output_type": "execute_result"
    }
   ],
   "source": [
    "df"
   ]
  },
  {
   "cell_type": "code",
   "execution_count": 233,
   "metadata": {
    "collapsed": false
   },
   "outputs": [],
   "source": [
    "df.sort_values('D', inplace=True)"
   ]
  },
  {
   "cell_type": "code",
   "execution_count": 234,
   "metadata": {
    "collapsed": false
   },
   "outputs": [
    {
     "data": {
      "text/html": [
       "<div>\n",
       "<table border=\"1\" class=\"dataframe\">\n",
       "  <thead>\n",
       "    <tr style=\"text-align: right;\">\n",
       "      <th></th>\n",
       "      <th>Equipe</th>\n",
       "      <th>UF</th>\n",
       "      <th>P</th>\n",
       "      <th>J</th>\n",
       "      <th>V</th>\n",
       "      <th>E</th>\n",
       "      <th>D</th>\n",
       "      <th>GP</th>\n",
       "      <th>GC</th>\n",
       "      <th>SG</th>\n",
       "      <th>VM</th>\n",
       "      <th>VV</th>\n",
       "      <th>DM</th>\n",
       "      <th>DV</th>\n",
       "      <th>CA</th>\n",
       "      <th>CV</th>\n",
       "      <th>%</th>\n",
       "    </tr>\n",
       "  </thead>\n",
       "  <tbody>\n",
       "    <tr>\n",
       "      <th>a</th>\n",
       "      <td>PALMEIRAS</td>\n",
       "      <td>Sao Paulo</td>\n",
       "      <td>80</td>\n",
       "      <td>38</td>\n",
       "      <td>24</td>\n",
       "      <td>8</td>\n",
       "      <td>6</td>\n",
       "      <td>62</td>\n",
       "      <td>32</td>\n",
       "      <td>30</td>\n",
       "      <td>14</td>\n",
       "      <td>10</td>\n",
       "      <td>1</td>\n",
       "      <td>5</td>\n",
       "      <td>95</td>\n",
       "      <td>0</td>\n",
       "      <td>70</td>\n",
       "    </tr>\n",
       "    <tr>\n",
       "      <th>c</th>\n",
       "      <td>FLAMENGO</td>\n",
       "      <td>RJ</td>\n",
       "      <td>71</td>\n",
       "      <td>38</td>\n",
       "      <td>20</td>\n",
       "      <td>11</td>\n",
       "      <td>7</td>\n",
       "      <td>52</td>\n",
       "      <td>35</td>\n",
       "      <td>17</td>\n",
       "      <td>12</td>\n",
       "      <td>8</td>\n",
       "      <td>2</td>\n",
       "      <td>5</td>\n",
       "      <td>62</td>\n",
       "      <td>5</td>\n",
       "      <td>62</td>\n",
       "    </tr>\n",
       "    <tr>\n",
       "      <th>b</th>\n",
       "      <td>SANTOS</td>\n",
       "      <td>Sao Paulo</td>\n",
       "      <td>71</td>\n",
       "      <td>38</td>\n",
       "      <td>22</td>\n",
       "      <td>5</td>\n",
       "      <td>11</td>\n",
       "      <td>59</td>\n",
       "      <td>35</td>\n",
       "      <td>24</td>\n",
       "      <td>15</td>\n",
       "      <td>7</td>\n",
       "      <td>2</td>\n",
       "      <td>9</td>\n",
       "      <td>74</td>\n",
       "      <td>4</td>\n",
       "      <td>62</td>\n",
       "    </tr>\n",
       "    <tr>\n",
       "      <th>d</th>\n",
       "      <td>BOTAFOGO</td>\n",
       "      <td>RJ</td>\n",
       "      <td>59</td>\n",
       "      <td>38</td>\n",
       "      <td>17</td>\n",
       "      <td>8</td>\n",
       "      <td>13</td>\n",
       "      <td>43</td>\n",
       "      <td>39</td>\n",
       "      <td>4</td>\n",
       "      <td>10</td>\n",
       "      <td>7</td>\n",
       "      <td>4</td>\n",
       "      <td>9</td>\n",
       "      <td>93</td>\n",
       "      <td>2</td>\n",
       "      <td>51</td>\n",
       "    </tr>\n",
       "    <tr>\n",
       "      <th>f</th>\n",
       "      <td>CORINTHIANS</td>\n",
       "      <td>Sao Paulo</td>\n",
       "      <td>55</td>\n",
       "      <td>38</td>\n",
       "      <td>15</td>\n",
       "      <td>10</td>\n",
       "      <td>13</td>\n",
       "      <td>48</td>\n",
       "      <td>42</td>\n",
       "      <td>6</td>\n",
       "      <td>10</td>\n",
       "      <td>5</td>\n",
       "      <td>2</td>\n",
       "      <td>11</td>\n",
       "      <td>76</td>\n",
       "      <td>5</td>\n",
       "      <td>48</td>\n",
       "    </tr>\n",
       "    <tr>\n",
       "      <th>g</th>\n",
       "      <td>GRÊMIO</td>\n",
       "      <td>RS</td>\n",
       "      <td>53</td>\n",
       "      <td>38</td>\n",
       "      <td>14</td>\n",
       "      <td>11</td>\n",
       "      <td>13</td>\n",
       "      <td>41</td>\n",
       "      <td>44</td>\n",
       "      <td>-3</td>\n",
       "      <td>11</td>\n",
       "      <td>3</td>\n",
       "      <td>4</td>\n",
       "      <td>9</td>\n",
       "      <td>93</td>\n",
       "      <td>6</td>\n",
       "      <td>46</td>\n",
       "    </tr>\n",
       "    <tr>\n",
       "      <th>e</th>\n",
       "      <td>ATLÉTICO</td>\n",
       "      <td>PR</td>\n",
       "      <td>57</td>\n",
       "      <td>38</td>\n",
       "      <td>17</td>\n",
       "      <td>6</td>\n",
       "      <td>15</td>\n",
       "      <td>38</td>\n",
       "      <td>32</td>\n",
       "      <td>6</td>\n",
       "      <td>15</td>\n",
       "      <td>2</td>\n",
       "      <td>1</td>\n",
       "      <td>14</td>\n",
       "      <td>76</td>\n",
       "      <td>1</td>\n",
       "      <td>50</td>\n",
       "    </tr>\n",
       "  </tbody>\n",
       "</table>\n",
       "</div>"
      ],
      "text/plain": [
       "        Equipe         UF   P   J   V   E   D  GP  GC  SG  VM  VV  DM  DV  CA  \\\n",
       "a    PALMEIRAS  Sao Paulo  80  38  24   8   6  62  32  30  14  10   1   5  95   \n",
       "c     FLAMENGO         RJ  71  38  20  11   7  52  35  17  12   8   2   5  62   \n",
       "b       SANTOS  Sao Paulo  71  38  22   5  11  59  35  24  15   7   2   9  74   \n",
       "d     BOTAFOGO         RJ  59  38  17   8  13  43  39   4  10   7   4   9  93   \n",
       "f  CORINTHIANS  Sao Paulo  55  38  15  10  13  48  42   6  10   5   2  11  76   \n",
       "g       GRÊMIO         RS  53  38  14  11  13  41  44  -3  11   3   4   9  93   \n",
       "e     ATLÉTICO         PR  57  38  17   6  15  38  32   6  15   2   1  14  76   \n",
       "\n",
       "   CV   %  \n",
       "a   0  70  \n",
       "c   5  62  \n",
       "b   4  62  \n",
       "d   2  51  \n",
       "f   5  48  \n",
       "g   6  46  \n",
       "e   1  50  "
      ]
     },
     "execution_count": 234,
     "metadata": {},
     "output_type": "execute_result"
    }
   ],
   "source": [
    "df"
   ]
  },
  {
   "cell_type": "code",
   "execution_count": 235,
   "metadata": {
    "collapsed": false
   },
   "outputs": [
    {
     "data": {
      "text/html": [
       "<div>\n",
       "<table border=\"1\" class=\"dataframe\">\n",
       "  <thead>\n",
       "    <tr style=\"text-align: right;\">\n",
       "      <th></th>\n",
       "      <th>Equipe</th>\n",
       "      <th>UF</th>\n",
       "      <th>P</th>\n",
       "      <th>J</th>\n",
       "      <th>V</th>\n",
       "      <th>E</th>\n",
       "      <th>D</th>\n",
       "      <th>GP</th>\n",
       "      <th>GC</th>\n",
       "      <th>SG</th>\n",
       "      <th>VM</th>\n",
       "      <th>VV</th>\n",
       "      <th>DM</th>\n",
       "      <th>DV</th>\n",
       "      <th>CA</th>\n",
       "      <th>CV</th>\n",
       "      <th>%</th>\n",
       "    </tr>\n",
       "  </thead>\n",
       "  <tbody>\n",
       "    <tr>\n",
       "      <th>e</th>\n",
       "      <td>ATLÉTICO</td>\n",
       "      <td>PR</td>\n",
       "      <td>57</td>\n",
       "      <td>38</td>\n",
       "      <td>17</td>\n",
       "      <td>6</td>\n",
       "      <td>15</td>\n",
       "      <td>38</td>\n",
       "      <td>32</td>\n",
       "      <td>6</td>\n",
       "      <td>15</td>\n",
       "      <td>2</td>\n",
       "      <td>1</td>\n",
       "      <td>14</td>\n",
       "      <td>76</td>\n",
       "      <td>1</td>\n",
       "      <td>50</td>\n",
       "    </tr>\n",
       "    <tr>\n",
       "      <th>d</th>\n",
       "      <td>BOTAFOGO</td>\n",
       "      <td>RJ</td>\n",
       "      <td>59</td>\n",
       "      <td>38</td>\n",
       "      <td>17</td>\n",
       "      <td>8</td>\n",
       "      <td>13</td>\n",
       "      <td>43</td>\n",
       "      <td>39</td>\n",
       "      <td>4</td>\n",
       "      <td>10</td>\n",
       "      <td>7</td>\n",
       "      <td>4</td>\n",
       "      <td>9</td>\n",
       "      <td>93</td>\n",
       "      <td>2</td>\n",
       "      <td>51</td>\n",
       "    </tr>\n",
       "    <tr>\n",
       "      <th>f</th>\n",
       "      <td>CORINTHIANS</td>\n",
       "      <td>Sao Paulo</td>\n",
       "      <td>55</td>\n",
       "      <td>38</td>\n",
       "      <td>15</td>\n",
       "      <td>10</td>\n",
       "      <td>13</td>\n",
       "      <td>48</td>\n",
       "      <td>42</td>\n",
       "      <td>6</td>\n",
       "      <td>10</td>\n",
       "      <td>5</td>\n",
       "      <td>2</td>\n",
       "      <td>11</td>\n",
       "      <td>76</td>\n",
       "      <td>5</td>\n",
       "      <td>48</td>\n",
       "    </tr>\n",
       "    <tr>\n",
       "      <th>g</th>\n",
       "      <td>GRÊMIO</td>\n",
       "      <td>RS</td>\n",
       "      <td>53</td>\n",
       "      <td>38</td>\n",
       "      <td>14</td>\n",
       "      <td>11</td>\n",
       "      <td>13</td>\n",
       "      <td>41</td>\n",
       "      <td>44</td>\n",
       "      <td>-3</td>\n",
       "      <td>11</td>\n",
       "      <td>3</td>\n",
       "      <td>4</td>\n",
       "      <td>9</td>\n",
       "      <td>93</td>\n",
       "      <td>6</td>\n",
       "      <td>46</td>\n",
       "    </tr>\n",
       "    <tr>\n",
       "      <th>b</th>\n",
       "      <td>SANTOS</td>\n",
       "      <td>Sao Paulo</td>\n",
       "      <td>71</td>\n",
       "      <td>38</td>\n",
       "      <td>22</td>\n",
       "      <td>5</td>\n",
       "      <td>11</td>\n",
       "      <td>59</td>\n",
       "      <td>35</td>\n",
       "      <td>24</td>\n",
       "      <td>15</td>\n",
       "      <td>7</td>\n",
       "      <td>2</td>\n",
       "      <td>9</td>\n",
       "      <td>74</td>\n",
       "      <td>4</td>\n",
       "      <td>62</td>\n",
       "    </tr>\n",
       "    <tr>\n",
       "      <th>c</th>\n",
       "      <td>FLAMENGO</td>\n",
       "      <td>RJ</td>\n",
       "      <td>71</td>\n",
       "      <td>38</td>\n",
       "      <td>20</td>\n",
       "      <td>11</td>\n",
       "      <td>7</td>\n",
       "      <td>52</td>\n",
       "      <td>35</td>\n",
       "      <td>17</td>\n",
       "      <td>12</td>\n",
       "      <td>8</td>\n",
       "      <td>2</td>\n",
       "      <td>5</td>\n",
       "      <td>62</td>\n",
       "      <td>5</td>\n",
       "      <td>62</td>\n",
       "    </tr>\n",
       "    <tr>\n",
       "      <th>a</th>\n",
       "      <td>PALMEIRAS</td>\n",
       "      <td>Sao Paulo</td>\n",
       "      <td>80</td>\n",
       "      <td>38</td>\n",
       "      <td>24</td>\n",
       "      <td>8</td>\n",
       "      <td>6</td>\n",
       "      <td>62</td>\n",
       "      <td>32</td>\n",
       "      <td>30</td>\n",
       "      <td>14</td>\n",
       "      <td>10</td>\n",
       "      <td>1</td>\n",
       "      <td>5</td>\n",
       "      <td>95</td>\n",
       "      <td>0</td>\n",
       "      <td>70</td>\n",
       "    </tr>\n",
       "  </tbody>\n",
       "</table>\n",
       "</div>"
      ],
      "text/plain": [
       "        Equipe         UF   P   J   V   E   D  GP  GC  SG  VM  VV  DM  DV  CA  \\\n",
       "e     ATLÉTICO         PR  57  38  17   6  15  38  32   6  15   2   1  14  76   \n",
       "d     BOTAFOGO         RJ  59  38  17   8  13  43  39   4  10   7   4   9  93   \n",
       "f  CORINTHIANS  Sao Paulo  55  38  15  10  13  48  42   6  10   5   2  11  76   \n",
       "g       GRÊMIO         RS  53  38  14  11  13  41  44  -3  11   3   4   9  93   \n",
       "b       SANTOS  Sao Paulo  71  38  22   5  11  59  35  24  15   7   2   9  74   \n",
       "c     FLAMENGO         RJ  71  38  20  11   7  52  35  17  12   8   2   5  62   \n",
       "a    PALMEIRAS  Sao Paulo  80  38  24   8   6  62  32  30  14  10   1   5  95   \n",
       "\n",
       "   CV   %  \n",
       "e   1  50  \n",
       "d   2  51  \n",
       "f   5  48  \n",
       "g   6  46  \n",
       "b   4  62  \n",
       "c   5  62  \n",
       "a   0  70  "
      ]
     },
     "execution_count": 235,
     "metadata": {},
     "output_type": "execute_result"
    }
   ],
   "source": [
    "df.sort_values('D', ascending=False)"
   ]
  },
  {
   "cell_type": "code",
   "execution_count": 236,
   "metadata": {
    "collapsed": true
   },
   "outputs": [],
   "source": [
    "df = df.sort_values('D', ascending=False)"
   ]
  },
  {
   "cell_type": "code",
   "execution_count": 237,
   "metadata": {
    "collapsed": false
   },
   "outputs": [
    {
     "data": {
      "text/html": [
       "<div>\n",
       "<table border=\"1\" class=\"dataframe\">\n",
       "  <thead>\n",
       "    <tr style=\"text-align: right;\">\n",
       "      <th></th>\n",
       "      <th>Equipe</th>\n",
       "      <th>UF</th>\n",
       "      <th>P</th>\n",
       "      <th>J</th>\n",
       "      <th>V</th>\n",
       "      <th>E</th>\n",
       "      <th>D</th>\n",
       "      <th>GP</th>\n",
       "      <th>GC</th>\n",
       "      <th>SG</th>\n",
       "      <th>VM</th>\n",
       "      <th>VV</th>\n",
       "      <th>DM</th>\n",
       "      <th>DV</th>\n",
       "      <th>CA</th>\n",
       "      <th>CV</th>\n",
       "      <th>%</th>\n",
       "    </tr>\n",
       "  </thead>\n",
       "  <tbody>\n",
       "    <tr>\n",
       "      <th>e</th>\n",
       "      <td>ATLÉTICO</td>\n",
       "      <td>PR</td>\n",
       "      <td>57</td>\n",
       "      <td>38</td>\n",
       "      <td>17</td>\n",
       "      <td>6</td>\n",
       "      <td>15</td>\n",
       "      <td>38</td>\n",
       "      <td>32</td>\n",
       "      <td>6</td>\n",
       "      <td>15</td>\n",
       "      <td>2</td>\n",
       "      <td>1</td>\n",
       "      <td>14</td>\n",
       "      <td>76</td>\n",
       "      <td>1</td>\n",
       "      <td>50</td>\n",
       "    </tr>\n",
       "    <tr>\n",
       "      <th>d</th>\n",
       "      <td>BOTAFOGO</td>\n",
       "      <td>RJ</td>\n",
       "      <td>59</td>\n",
       "      <td>38</td>\n",
       "      <td>17</td>\n",
       "      <td>8</td>\n",
       "      <td>13</td>\n",
       "      <td>43</td>\n",
       "      <td>39</td>\n",
       "      <td>4</td>\n",
       "      <td>10</td>\n",
       "      <td>7</td>\n",
       "      <td>4</td>\n",
       "      <td>9</td>\n",
       "      <td>93</td>\n",
       "      <td>2</td>\n",
       "      <td>51</td>\n",
       "    </tr>\n",
       "    <tr>\n",
       "      <th>f</th>\n",
       "      <td>CORINTHIANS</td>\n",
       "      <td>Sao Paulo</td>\n",
       "      <td>55</td>\n",
       "      <td>38</td>\n",
       "      <td>15</td>\n",
       "      <td>10</td>\n",
       "      <td>13</td>\n",
       "      <td>48</td>\n",
       "      <td>42</td>\n",
       "      <td>6</td>\n",
       "      <td>10</td>\n",
       "      <td>5</td>\n",
       "      <td>2</td>\n",
       "      <td>11</td>\n",
       "      <td>76</td>\n",
       "      <td>5</td>\n",
       "      <td>48</td>\n",
       "    </tr>\n",
       "    <tr>\n",
       "      <th>g</th>\n",
       "      <td>GRÊMIO</td>\n",
       "      <td>RS</td>\n",
       "      <td>53</td>\n",
       "      <td>38</td>\n",
       "      <td>14</td>\n",
       "      <td>11</td>\n",
       "      <td>13</td>\n",
       "      <td>41</td>\n",
       "      <td>44</td>\n",
       "      <td>-3</td>\n",
       "      <td>11</td>\n",
       "      <td>3</td>\n",
       "      <td>4</td>\n",
       "      <td>9</td>\n",
       "      <td>93</td>\n",
       "      <td>6</td>\n",
       "      <td>46</td>\n",
       "    </tr>\n",
       "    <tr>\n",
       "      <th>b</th>\n",
       "      <td>SANTOS</td>\n",
       "      <td>Sao Paulo</td>\n",
       "      <td>71</td>\n",
       "      <td>38</td>\n",
       "      <td>22</td>\n",
       "      <td>5</td>\n",
       "      <td>11</td>\n",
       "      <td>59</td>\n",
       "      <td>35</td>\n",
       "      <td>24</td>\n",
       "      <td>15</td>\n",
       "      <td>7</td>\n",
       "      <td>2</td>\n",
       "      <td>9</td>\n",
       "      <td>74</td>\n",
       "      <td>4</td>\n",
       "      <td>62</td>\n",
       "    </tr>\n",
       "    <tr>\n",
       "      <th>c</th>\n",
       "      <td>FLAMENGO</td>\n",
       "      <td>RJ</td>\n",
       "      <td>71</td>\n",
       "      <td>38</td>\n",
       "      <td>20</td>\n",
       "      <td>11</td>\n",
       "      <td>7</td>\n",
       "      <td>52</td>\n",
       "      <td>35</td>\n",
       "      <td>17</td>\n",
       "      <td>12</td>\n",
       "      <td>8</td>\n",
       "      <td>2</td>\n",
       "      <td>5</td>\n",
       "      <td>62</td>\n",
       "      <td>5</td>\n",
       "      <td>62</td>\n",
       "    </tr>\n",
       "    <tr>\n",
       "      <th>a</th>\n",
       "      <td>PALMEIRAS</td>\n",
       "      <td>Sao Paulo</td>\n",
       "      <td>80</td>\n",
       "      <td>38</td>\n",
       "      <td>24</td>\n",
       "      <td>8</td>\n",
       "      <td>6</td>\n",
       "      <td>62</td>\n",
       "      <td>32</td>\n",
       "      <td>30</td>\n",
       "      <td>14</td>\n",
       "      <td>10</td>\n",
       "      <td>1</td>\n",
       "      <td>5</td>\n",
       "      <td>95</td>\n",
       "      <td>0</td>\n",
       "      <td>70</td>\n",
       "    </tr>\n",
       "  </tbody>\n",
       "</table>\n",
       "</div>"
      ],
      "text/plain": [
       "        Equipe         UF   P   J   V   E   D  GP  GC  SG  VM  VV  DM  DV  CA  \\\n",
       "e     ATLÉTICO         PR  57  38  17   6  15  38  32   6  15   2   1  14  76   \n",
       "d     BOTAFOGO         RJ  59  38  17   8  13  43  39   4  10   7   4   9  93   \n",
       "f  CORINTHIANS  Sao Paulo  55  38  15  10  13  48  42   6  10   5   2  11  76   \n",
       "g       GRÊMIO         RS  53  38  14  11  13  41  44  -3  11   3   4   9  93   \n",
       "b       SANTOS  Sao Paulo  71  38  22   5  11  59  35  24  15   7   2   9  74   \n",
       "c     FLAMENGO         RJ  71  38  20  11   7  52  35  17  12   8   2   5  62   \n",
       "a    PALMEIRAS  Sao Paulo  80  38  24   8   6  62  32  30  14  10   1   5  95   \n",
       "\n",
       "   CV   %  \n",
       "e   1  50  \n",
       "d   2  51  \n",
       "f   5  48  \n",
       "g   6  46  \n",
       "b   4  62  \n",
       "c   5  62  \n",
       "a   0  70  "
      ]
     },
     "execution_count": 237,
     "metadata": {},
     "output_type": "execute_result"
    }
   ],
   "source": [
    "df"
   ]
  },
  {
   "cell_type": "code",
   "execution_count": 238,
   "metadata": {
    "collapsed": false
   },
   "outputs": [
    {
     "data": {
      "text/html": [
       "<div>\n",
       "<table border=\"1\" class=\"dataframe\">\n",
       "  <thead>\n",
       "    <tr style=\"text-align: right;\">\n",
       "      <th></th>\n",
       "      <th>Equipe</th>\n",
       "      <th>UF</th>\n",
       "      <th>P</th>\n",
       "      <th>J</th>\n",
       "      <th>V</th>\n",
       "      <th>E</th>\n",
       "      <th>D</th>\n",
       "      <th>GP</th>\n",
       "      <th>GC</th>\n",
       "      <th>SG</th>\n",
       "      <th>VM</th>\n",
       "      <th>VV</th>\n",
       "      <th>DM</th>\n",
       "      <th>DV</th>\n",
       "      <th>CA</th>\n",
       "      <th>CV</th>\n",
       "      <th>%</th>\n",
       "    </tr>\n",
       "  </thead>\n",
       "  <tbody>\n",
       "    <tr>\n",
       "      <th>a</th>\n",
       "      <td>PALMEIRAS</td>\n",
       "      <td>Sao Paulo</td>\n",
       "      <td>80</td>\n",
       "      <td>38</td>\n",
       "      <td>24</td>\n",
       "      <td>8</td>\n",
       "      <td>6</td>\n",
       "      <td>62</td>\n",
       "      <td>32</td>\n",
       "      <td>30</td>\n",
       "      <td>14</td>\n",
       "      <td>10</td>\n",
       "      <td>1</td>\n",
       "      <td>5</td>\n",
       "      <td>95</td>\n",
       "      <td>0</td>\n",
       "      <td>70</td>\n",
       "    </tr>\n",
       "    <tr>\n",
       "      <th>c</th>\n",
       "      <td>FLAMENGO</td>\n",
       "      <td>RJ</td>\n",
       "      <td>71</td>\n",
       "      <td>38</td>\n",
       "      <td>20</td>\n",
       "      <td>11</td>\n",
       "      <td>7</td>\n",
       "      <td>52</td>\n",
       "      <td>35</td>\n",
       "      <td>17</td>\n",
       "      <td>12</td>\n",
       "      <td>8</td>\n",
       "      <td>2</td>\n",
       "      <td>5</td>\n",
       "      <td>62</td>\n",
       "      <td>5</td>\n",
       "      <td>62</td>\n",
       "    </tr>\n",
       "    <tr>\n",
       "      <th>b</th>\n",
       "      <td>SANTOS</td>\n",
       "      <td>Sao Paulo</td>\n",
       "      <td>71</td>\n",
       "      <td>38</td>\n",
       "      <td>22</td>\n",
       "      <td>5</td>\n",
       "      <td>11</td>\n",
       "      <td>59</td>\n",
       "      <td>35</td>\n",
       "      <td>24</td>\n",
       "      <td>15</td>\n",
       "      <td>7</td>\n",
       "      <td>2</td>\n",
       "      <td>9</td>\n",
       "      <td>74</td>\n",
       "      <td>4</td>\n",
       "      <td>62</td>\n",
       "    </tr>\n",
       "    <tr>\n",
       "      <th>g</th>\n",
       "      <td>GRÊMIO</td>\n",
       "      <td>RS</td>\n",
       "      <td>53</td>\n",
       "      <td>38</td>\n",
       "      <td>14</td>\n",
       "      <td>11</td>\n",
       "      <td>13</td>\n",
       "      <td>41</td>\n",
       "      <td>44</td>\n",
       "      <td>-3</td>\n",
       "      <td>11</td>\n",
       "      <td>3</td>\n",
       "      <td>4</td>\n",
       "      <td>9</td>\n",
       "      <td>93</td>\n",
       "      <td>6</td>\n",
       "      <td>46</td>\n",
       "    </tr>\n",
       "    <tr>\n",
       "      <th>d</th>\n",
       "      <td>BOTAFOGO</td>\n",
       "      <td>RJ</td>\n",
       "      <td>59</td>\n",
       "      <td>38</td>\n",
       "      <td>17</td>\n",
       "      <td>8</td>\n",
       "      <td>13</td>\n",
       "      <td>43</td>\n",
       "      <td>39</td>\n",
       "      <td>4</td>\n",
       "      <td>10</td>\n",
       "      <td>7</td>\n",
       "      <td>4</td>\n",
       "      <td>9</td>\n",
       "      <td>93</td>\n",
       "      <td>2</td>\n",
       "      <td>51</td>\n",
       "    </tr>\n",
       "    <tr>\n",
       "      <th>f</th>\n",
       "      <td>CORINTHIANS</td>\n",
       "      <td>Sao Paulo</td>\n",
       "      <td>55</td>\n",
       "      <td>38</td>\n",
       "      <td>15</td>\n",
       "      <td>10</td>\n",
       "      <td>13</td>\n",
       "      <td>48</td>\n",
       "      <td>42</td>\n",
       "      <td>6</td>\n",
       "      <td>10</td>\n",
       "      <td>5</td>\n",
       "      <td>2</td>\n",
       "      <td>11</td>\n",
       "      <td>76</td>\n",
       "      <td>5</td>\n",
       "      <td>48</td>\n",
       "    </tr>\n",
       "    <tr>\n",
       "      <th>e</th>\n",
       "      <td>ATLÉTICO</td>\n",
       "      <td>PR</td>\n",
       "      <td>57</td>\n",
       "      <td>38</td>\n",
       "      <td>17</td>\n",
       "      <td>6</td>\n",
       "      <td>15</td>\n",
       "      <td>38</td>\n",
       "      <td>32</td>\n",
       "      <td>6</td>\n",
       "      <td>15</td>\n",
       "      <td>2</td>\n",
       "      <td>1</td>\n",
       "      <td>14</td>\n",
       "      <td>76</td>\n",
       "      <td>1</td>\n",
       "      <td>50</td>\n",
       "    </tr>\n",
       "  </tbody>\n",
       "</table>\n",
       "</div>"
      ],
      "text/plain": [
       "        Equipe         UF   P   J   V   E   D  GP  GC  SG  VM  VV  DM  DV  CA  \\\n",
       "a    PALMEIRAS  Sao Paulo  80  38  24   8   6  62  32  30  14  10   1   5  95   \n",
       "c     FLAMENGO         RJ  71  38  20  11   7  52  35  17  12   8   2   5  62   \n",
       "b       SANTOS  Sao Paulo  71  38  22   5  11  59  35  24  15   7   2   9  74   \n",
       "g       GRÊMIO         RS  53  38  14  11  13  41  44  -3  11   3   4   9  93   \n",
       "d     BOTAFOGO         RJ  59  38  17   8  13  43  39   4  10   7   4   9  93   \n",
       "f  CORINTHIANS  Sao Paulo  55  38  15  10  13  48  42   6  10   5   2  11  76   \n",
       "e     ATLÉTICO         PR  57  38  17   6  15  38  32   6  15   2   1  14  76   \n",
       "\n",
       "   CV   %  \n",
       "a   0  70  \n",
       "c   5  62  \n",
       "b   4  62  \n",
       "g   6  46  \n",
       "d   2  51  \n",
       "f   5  48  \n",
       "e   1  50  "
      ]
     },
     "execution_count": 238,
     "metadata": {},
     "output_type": "execute_result"
    }
   ],
   "source": [
    "df.sort_values(['D', 'SG'])"
   ]
  },
  {
   "cell_type": "markdown",
   "metadata": {},
   "source": [
    "### broadcast"
   ]
  },
  {
   "cell_type": "code",
   "execution_count": 239,
   "metadata": {
    "collapsed": false
   },
   "outputs": [
    {
     "data": {
      "text/html": [
       "<div>\n",
       "<table border=\"1\" class=\"dataframe\">\n",
       "  <thead>\n",
       "    <tr style=\"text-align: right;\">\n",
       "      <th></th>\n",
       "      <th>Equipe</th>\n",
       "      <th>UF</th>\n",
       "      <th>P</th>\n",
       "      <th>J</th>\n",
       "      <th>V</th>\n",
       "      <th>E</th>\n",
       "      <th>D</th>\n",
       "      <th>GP</th>\n",
       "      <th>GC</th>\n",
       "      <th>SG</th>\n",
       "      <th>VM</th>\n",
       "      <th>VV</th>\n",
       "      <th>DM</th>\n",
       "      <th>DV</th>\n",
       "      <th>CA</th>\n",
       "      <th>CV</th>\n",
       "      <th>%</th>\n",
       "    </tr>\n",
       "  </thead>\n",
       "  <tbody>\n",
       "    <tr>\n",
       "      <th>e</th>\n",
       "      <td>ATLÉTICO</td>\n",
       "      <td>PR</td>\n",
       "      <td>57</td>\n",
       "      <td>38</td>\n",
       "      <td>17</td>\n",
       "      <td>6</td>\n",
       "      <td>15</td>\n",
       "      <td>38</td>\n",
       "      <td>32</td>\n",
       "      <td>6</td>\n",
       "      <td>15</td>\n",
       "      <td>2</td>\n",
       "      <td>1</td>\n",
       "      <td>14</td>\n",
       "      <td>76</td>\n",
       "      <td>1</td>\n",
       "      <td>50</td>\n",
       "    </tr>\n",
       "    <tr>\n",
       "      <th>d</th>\n",
       "      <td>BOTAFOGO</td>\n",
       "      <td>RJ</td>\n",
       "      <td>59</td>\n",
       "      <td>38</td>\n",
       "      <td>17</td>\n",
       "      <td>8</td>\n",
       "      <td>13</td>\n",
       "      <td>43</td>\n",
       "      <td>39</td>\n",
       "      <td>4</td>\n",
       "      <td>10</td>\n",
       "      <td>7</td>\n",
       "      <td>4</td>\n",
       "      <td>9</td>\n",
       "      <td>93</td>\n",
       "      <td>2</td>\n",
       "      <td>51</td>\n",
       "    </tr>\n",
       "    <tr>\n",
       "      <th>f</th>\n",
       "      <td>CORINTHIANS</td>\n",
       "      <td>Sao Paulo</td>\n",
       "      <td>55</td>\n",
       "      <td>38</td>\n",
       "      <td>15</td>\n",
       "      <td>10</td>\n",
       "      <td>13</td>\n",
       "      <td>48</td>\n",
       "      <td>42</td>\n",
       "      <td>6</td>\n",
       "      <td>10</td>\n",
       "      <td>5</td>\n",
       "      <td>2</td>\n",
       "      <td>11</td>\n",
       "      <td>76</td>\n",
       "      <td>5</td>\n",
       "      <td>48</td>\n",
       "    </tr>\n",
       "    <tr>\n",
       "      <th>g</th>\n",
       "      <td>GRÊMIO</td>\n",
       "      <td>RS</td>\n",
       "      <td>53</td>\n",
       "      <td>38</td>\n",
       "      <td>14</td>\n",
       "      <td>11</td>\n",
       "      <td>13</td>\n",
       "      <td>41</td>\n",
       "      <td>44</td>\n",
       "      <td>-3</td>\n",
       "      <td>11</td>\n",
       "      <td>3</td>\n",
       "      <td>4</td>\n",
       "      <td>9</td>\n",
       "      <td>93</td>\n",
       "      <td>6</td>\n",
       "      <td>46</td>\n",
       "    </tr>\n",
       "    <tr>\n",
       "      <th>b</th>\n",
       "      <td>SANTOS</td>\n",
       "      <td>Sao Paulo</td>\n",
       "      <td>71</td>\n",
       "      <td>38</td>\n",
       "      <td>22</td>\n",
       "      <td>5</td>\n",
       "      <td>11</td>\n",
       "      <td>59</td>\n",
       "      <td>35</td>\n",
       "      <td>24</td>\n",
       "      <td>15</td>\n",
       "      <td>7</td>\n",
       "      <td>2</td>\n",
       "      <td>9</td>\n",
       "      <td>74</td>\n",
       "      <td>4</td>\n",
       "      <td>62</td>\n",
       "    </tr>\n",
       "    <tr>\n",
       "      <th>c</th>\n",
       "      <td>FLAMENGO</td>\n",
       "      <td>RJ</td>\n",
       "      <td>71</td>\n",
       "      <td>38</td>\n",
       "      <td>20</td>\n",
       "      <td>11</td>\n",
       "      <td>7</td>\n",
       "      <td>52</td>\n",
       "      <td>35</td>\n",
       "      <td>17</td>\n",
       "      <td>12</td>\n",
       "      <td>8</td>\n",
       "      <td>2</td>\n",
       "      <td>5</td>\n",
       "      <td>62</td>\n",
       "      <td>5</td>\n",
       "      <td>62</td>\n",
       "    </tr>\n",
       "    <tr>\n",
       "      <th>a</th>\n",
       "      <td>PALMEIRAS</td>\n",
       "      <td>Sao Paulo</td>\n",
       "      <td>80</td>\n",
       "      <td>38</td>\n",
       "      <td>24</td>\n",
       "      <td>8</td>\n",
       "      <td>6</td>\n",
       "      <td>62</td>\n",
       "      <td>32</td>\n",
       "      <td>30</td>\n",
       "      <td>14</td>\n",
       "      <td>10</td>\n",
       "      <td>1</td>\n",
       "      <td>5</td>\n",
       "      <td>95</td>\n",
       "      <td>0</td>\n",
       "      <td>70</td>\n",
       "    </tr>\n",
       "  </tbody>\n",
       "</table>\n",
       "</div>"
      ],
      "text/plain": [
       "        Equipe         UF   P   J   V   E   D  GP  GC  SG  VM  VV  DM  DV  CA  \\\n",
       "e     ATLÉTICO         PR  57  38  17   6  15  38  32   6  15   2   1  14  76   \n",
       "d     BOTAFOGO         RJ  59  38  17   8  13  43  39   4  10   7   4   9  93   \n",
       "f  CORINTHIANS  Sao Paulo  55  38  15  10  13  48  42   6  10   5   2  11  76   \n",
       "g       GRÊMIO         RS  53  38  14  11  13  41  44  -3  11   3   4   9  93   \n",
       "b       SANTOS  Sao Paulo  71  38  22   5  11  59  35  24  15   7   2   9  74   \n",
       "c     FLAMENGO         RJ  71  38  20  11   7  52  35  17  12   8   2   5  62   \n",
       "a    PALMEIRAS  Sao Paulo  80  38  24   8   6  62  32  30  14  10   1   5  95   \n",
       "\n",
       "   CV   %  \n",
       "e   1  50  \n",
       "d   2  51  \n",
       "f   5  48  \n",
       "g   6  46  \n",
       "b   4  62  \n",
       "c   5  62  \n",
       "a   0  70  "
      ]
     },
     "execution_count": 239,
     "metadata": {},
     "output_type": "execute_result"
    }
   ],
   "source": [
    "df"
   ]
  },
  {
   "cell_type": "code",
   "execution_count": 240,
   "metadata": {
    "collapsed": false
   },
   "outputs": [
    {
     "data": {
      "text/html": [
       "<div>\n",
       "<table border=\"1\" class=\"dataframe\">\n",
       "  <thead>\n",
       "    <tr style=\"text-align: right;\">\n",
       "      <th></th>\n",
       "      <th>Equipe</th>\n",
       "      <th>UF</th>\n",
       "      <th>P</th>\n",
       "      <th>J</th>\n",
       "      <th>V</th>\n",
       "      <th>E</th>\n",
       "      <th>D</th>\n",
       "      <th>GP</th>\n",
       "      <th>GC</th>\n",
       "      <th>SG</th>\n",
       "      <th>VM</th>\n",
       "      <th>VV</th>\n",
       "      <th>DM</th>\n",
       "      <th>DV</th>\n",
       "      <th>CA</th>\n",
       "      <th>CV</th>\n",
       "      <th>%</th>\n",
       "      <th>Pais</th>\n",
       "    </tr>\n",
       "  </thead>\n",
       "  <tbody>\n",
       "    <tr>\n",
       "      <th>e</th>\n",
       "      <td>ATLÉTICO</td>\n",
       "      <td>PR</td>\n",
       "      <td>57</td>\n",
       "      <td>38</td>\n",
       "      <td>17</td>\n",
       "      <td>6</td>\n",
       "      <td>15</td>\n",
       "      <td>38</td>\n",
       "      <td>32</td>\n",
       "      <td>6</td>\n",
       "      <td>15</td>\n",
       "      <td>2</td>\n",
       "      <td>1</td>\n",
       "      <td>14</td>\n",
       "      <td>76</td>\n",
       "      <td>1</td>\n",
       "      <td>50</td>\n",
       "      <td>Brasil</td>\n",
       "    </tr>\n",
       "    <tr>\n",
       "      <th>d</th>\n",
       "      <td>BOTAFOGO</td>\n",
       "      <td>RJ</td>\n",
       "      <td>59</td>\n",
       "      <td>38</td>\n",
       "      <td>17</td>\n",
       "      <td>8</td>\n",
       "      <td>13</td>\n",
       "      <td>43</td>\n",
       "      <td>39</td>\n",
       "      <td>4</td>\n",
       "      <td>10</td>\n",
       "      <td>7</td>\n",
       "      <td>4</td>\n",
       "      <td>9</td>\n",
       "      <td>93</td>\n",
       "      <td>2</td>\n",
       "      <td>51</td>\n",
       "      <td>Brasil</td>\n",
       "    </tr>\n",
       "    <tr>\n",
       "      <th>f</th>\n",
       "      <td>CORINTHIANS</td>\n",
       "      <td>Sao Paulo</td>\n",
       "      <td>55</td>\n",
       "      <td>38</td>\n",
       "      <td>15</td>\n",
       "      <td>10</td>\n",
       "      <td>13</td>\n",
       "      <td>48</td>\n",
       "      <td>42</td>\n",
       "      <td>6</td>\n",
       "      <td>10</td>\n",
       "      <td>5</td>\n",
       "      <td>2</td>\n",
       "      <td>11</td>\n",
       "      <td>76</td>\n",
       "      <td>5</td>\n",
       "      <td>48</td>\n",
       "      <td>Brasil</td>\n",
       "    </tr>\n",
       "    <tr>\n",
       "      <th>g</th>\n",
       "      <td>GRÊMIO</td>\n",
       "      <td>RS</td>\n",
       "      <td>53</td>\n",
       "      <td>38</td>\n",
       "      <td>14</td>\n",
       "      <td>11</td>\n",
       "      <td>13</td>\n",
       "      <td>41</td>\n",
       "      <td>44</td>\n",
       "      <td>-3</td>\n",
       "      <td>11</td>\n",
       "      <td>3</td>\n",
       "      <td>4</td>\n",
       "      <td>9</td>\n",
       "      <td>93</td>\n",
       "      <td>6</td>\n",
       "      <td>46</td>\n",
       "      <td>Brasil</td>\n",
       "    </tr>\n",
       "    <tr>\n",
       "      <th>b</th>\n",
       "      <td>SANTOS</td>\n",
       "      <td>Sao Paulo</td>\n",
       "      <td>71</td>\n",
       "      <td>38</td>\n",
       "      <td>22</td>\n",
       "      <td>5</td>\n",
       "      <td>11</td>\n",
       "      <td>59</td>\n",
       "      <td>35</td>\n",
       "      <td>24</td>\n",
       "      <td>15</td>\n",
       "      <td>7</td>\n",
       "      <td>2</td>\n",
       "      <td>9</td>\n",
       "      <td>74</td>\n",
       "      <td>4</td>\n",
       "      <td>62</td>\n",
       "      <td>Brasil</td>\n",
       "    </tr>\n",
       "    <tr>\n",
       "      <th>c</th>\n",
       "      <td>FLAMENGO</td>\n",
       "      <td>RJ</td>\n",
       "      <td>71</td>\n",
       "      <td>38</td>\n",
       "      <td>20</td>\n",
       "      <td>11</td>\n",
       "      <td>7</td>\n",
       "      <td>52</td>\n",
       "      <td>35</td>\n",
       "      <td>17</td>\n",
       "      <td>12</td>\n",
       "      <td>8</td>\n",
       "      <td>2</td>\n",
       "      <td>5</td>\n",
       "      <td>62</td>\n",
       "      <td>5</td>\n",
       "      <td>62</td>\n",
       "      <td>Brasil</td>\n",
       "    </tr>\n",
       "    <tr>\n",
       "      <th>a</th>\n",
       "      <td>PALMEIRAS</td>\n",
       "      <td>Sao Paulo</td>\n",
       "      <td>80</td>\n",
       "      <td>38</td>\n",
       "      <td>24</td>\n",
       "      <td>8</td>\n",
       "      <td>6</td>\n",
       "      <td>62</td>\n",
       "      <td>32</td>\n",
       "      <td>30</td>\n",
       "      <td>14</td>\n",
       "      <td>10</td>\n",
       "      <td>1</td>\n",
       "      <td>5</td>\n",
       "      <td>95</td>\n",
       "      <td>0</td>\n",
       "      <td>70</td>\n",
       "      <td>Brasil</td>\n",
       "    </tr>\n",
       "  </tbody>\n",
       "</table>\n",
       "</div>"
      ],
      "text/plain": [
       "        Equipe         UF   P   J   V   E   D  GP  GC  SG  VM  VV  DM  DV  CA  \\\n",
       "e     ATLÉTICO         PR  57  38  17   6  15  38  32   6  15   2   1  14  76   \n",
       "d     BOTAFOGO         RJ  59  38  17   8  13  43  39   4  10   7   4   9  93   \n",
       "f  CORINTHIANS  Sao Paulo  55  38  15  10  13  48  42   6  10   5   2  11  76   \n",
       "g       GRÊMIO         RS  53  38  14  11  13  41  44  -3  11   3   4   9  93   \n",
       "b       SANTOS  Sao Paulo  71  38  22   5  11  59  35  24  15   7   2   9  74   \n",
       "c     FLAMENGO         RJ  71  38  20  11   7  52  35  17  12   8   2   5  62   \n",
       "a    PALMEIRAS  Sao Paulo  80  38  24   8   6  62  32  30  14  10   1   5  95   \n",
       "\n",
       "   CV   %    Pais  \n",
       "e   1  50  Brasil  \n",
       "d   2  51  Brasil  \n",
       "f   5  48  Brasil  \n",
       "g   6  46  Brasil  \n",
       "b   4  62  Brasil  \n",
       "c   5  62  Brasil  \n",
       "a   0  70  Brasil  "
      ]
     },
     "execution_count": 240,
     "metadata": {},
     "output_type": "execute_result"
    }
   ],
   "source": [
    "df['Pais'] = ['Brasil'] * 7\n",
    "\n",
    "df"
   ]
  },
  {
   "cell_type": "code",
   "execution_count": 241,
   "metadata": {
    "collapsed": false
   },
   "outputs": [],
   "source": [
    "del df['Pais']"
   ]
  },
  {
   "cell_type": "code",
   "execution_count": 242,
   "metadata": {
    "collapsed": false
   },
   "outputs": [
    {
     "data": {
      "text/html": [
       "<div>\n",
       "<table border=\"1\" class=\"dataframe\">\n",
       "  <thead>\n",
       "    <tr style=\"text-align: right;\">\n",
       "      <th></th>\n",
       "      <th>Equipe</th>\n",
       "      <th>UF</th>\n",
       "      <th>P</th>\n",
       "      <th>J</th>\n",
       "      <th>V</th>\n",
       "      <th>E</th>\n",
       "      <th>D</th>\n",
       "      <th>GP</th>\n",
       "      <th>GC</th>\n",
       "      <th>SG</th>\n",
       "      <th>VM</th>\n",
       "      <th>VV</th>\n",
       "      <th>DM</th>\n",
       "      <th>DV</th>\n",
       "      <th>CA</th>\n",
       "      <th>CV</th>\n",
       "      <th>%</th>\n",
       "      <th>Pais</th>\n",
       "    </tr>\n",
       "  </thead>\n",
       "  <tbody>\n",
       "    <tr>\n",
       "      <th>e</th>\n",
       "      <td>ATLÉTICO</td>\n",
       "      <td>PR</td>\n",
       "      <td>57</td>\n",
       "      <td>38</td>\n",
       "      <td>17</td>\n",
       "      <td>6</td>\n",
       "      <td>15</td>\n",
       "      <td>38</td>\n",
       "      <td>32</td>\n",
       "      <td>6</td>\n",
       "      <td>15</td>\n",
       "      <td>2</td>\n",
       "      <td>1</td>\n",
       "      <td>14</td>\n",
       "      <td>76</td>\n",
       "      <td>1</td>\n",
       "      <td>50</td>\n",
       "      <td>Brasil</td>\n",
       "    </tr>\n",
       "    <tr>\n",
       "      <th>d</th>\n",
       "      <td>BOTAFOGO</td>\n",
       "      <td>RJ</td>\n",
       "      <td>59</td>\n",
       "      <td>38</td>\n",
       "      <td>17</td>\n",
       "      <td>8</td>\n",
       "      <td>13</td>\n",
       "      <td>43</td>\n",
       "      <td>39</td>\n",
       "      <td>4</td>\n",
       "      <td>10</td>\n",
       "      <td>7</td>\n",
       "      <td>4</td>\n",
       "      <td>9</td>\n",
       "      <td>93</td>\n",
       "      <td>2</td>\n",
       "      <td>51</td>\n",
       "      <td>Brasil</td>\n",
       "    </tr>\n",
       "    <tr>\n",
       "      <th>f</th>\n",
       "      <td>CORINTHIANS</td>\n",
       "      <td>Sao Paulo</td>\n",
       "      <td>55</td>\n",
       "      <td>38</td>\n",
       "      <td>15</td>\n",
       "      <td>10</td>\n",
       "      <td>13</td>\n",
       "      <td>48</td>\n",
       "      <td>42</td>\n",
       "      <td>6</td>\n",
       "      <td>10</td>\n",
       "      <td>5</td>\n",
       "      <td>2</td>\n",
       "      <td>11</td>\n",
       "      <td>76</td>\n",
       "      <td>5</td>\n",
       "      <td>48</td>\n",
       "      <td>Brasil</td>\n",
       "    </tr>\n",
       "    <tr>\n",
       "      <th>g</th>\n",
       "      <td>GRÊMIO</td>\n",
       "      <td>RS</td>\n",
       "      <td>53</td>\n",
       "      <td>38</td>\n",
       "      <td>14</td>\n",
       "      <td>11</td>\n",
       "      <td>13</td>\n",
       "      <td>41</td>\n",
       "      <td>44</td>\n",
       "      <td>-3</td>\n",
       "      <td>11</td>\n",
       "      <td>3</td>\n",
       "      <td>4</td>\n",
       "      <td>9</td>\n",
       "      <td>93</td>\n",
       "      <td>6</td>\n",
       "      <td>46</td>\n",
       "      <td>Brasil</td>\n",
       "    </tr>\n",
       "    <tr>\n",
       "      <th>b</th>\n",
       "      <td>SANTOS</td>\n",
       "      <td>Sao Paulo</td>\n",
       "      <td>71</td>\n",
       "      <td>38</td>\n",
       "      <td>22</td>\n",
       "      <td>5</td>\n",
       "      <td>11</td>\n",
       "      <td>59</td>\n",
       "      <td>35</td>\n",
       "      <td>24</td>\n",
       "      <td>15</td>\n",
       "      <td>7</td>\n",
       "      <td>2</td>\n",
       "      <td>9</td>\n",
       "      <td>74</td>\n",
       "      <td>4</td>\n",
       "      <td>62</td>\n",
       "      <td>Brasil</td>\n",
       "    </tr>\n",
       "    <tr>\n",
       "      <th>c</th>\n",
       "      <td>FLAMENGO</td>\n",
       "      <td>RJ</td>\n",
       "      <td>71</td>\n",
       "      <td>38</td>\n",
       "      <td>20</td>\n",
       "      <td>11</td>\n",
       "      <td>7</td>\n",
       "      <td>52</td>\n",
       "      <td>35</td>\n",
       "      <td>17</td>\n",
       "      <td>12</td>\n",
       "      <td>8</td>\n",
       "      <td>2</td>\n",
       "      <td>5</td>\n",
       "      <td>62</td>\n",
       "      <td>5</td>\n",
       "      <td>62</td>\n",
       "      <td>Brasil</td>\n",
       "    </tr>\n",
       "    <tr>\n",
       "      <th>a</th>\n",
       "      <td>PALMEIRAS</td>\n",
       "      <td>Sao Paulo</td>\n",
       "      <td>80</td>\n",
       "      <td>38</td>\n",
       "      <td>24</td>\n",
       "      <td>8</td>\n",
       "      <td>6</td>\n",
       "      <td>62</td>\n",
       "      <td>32</td>\n",
       "      <td>30</td>\n",
       "      <td>14</td>\n",
       "      <td>10</td>\n",
       "      <td>1</td>\n",
       "      <td>5</td>\n",
       "      <td>95</td>\n",
       "      <td>0</td>\n",
       "      <td>70</td>\n",
       "      <td>Brasil</td>\n",
       "    </tr>\n",
       "  </tbody>\n",
       "</table>\n",
       "</div>"
      ],
      "text/plain": [
       "        Equipe         UF   P   J   V   E   D  GP  GC  SG  VM  VV  DM  DV  CA  \\\n",
       "e     ATLÉTICO         PR  57  38  17   6  15  38  32   6  15   2   1  14  76   \n",
       "d     BOTAFOGO         RJ  59  38  17   8  13  43  39   4  10   7   4   9  93   \n",
       "f  CORINTHIANS  Sao Paulo  55  38  15  10  13  48  42   6  10   5   2  11  76   \n",
       "g       GRÊMIO         RS  53  38  14  11  13  41  44  -3  11   3   4   9  93   \n",
       "b       SANTOS  Sao Paulo  71  38  22   5  11  59  35  24  15   7   2   9  74   \n",
       "c     FLAMENGO         RJ  71  38  20  11   7  52  35  17  12   8   2   5  62   \n",
       "a    PALMEIRAS  Sao Paulo  80  38  24   8   6  62  32  30  14  10   1   5  95   \n",
       "\n",
       "   CV   %    Pais  \n",
       "e   1  50  Brasil  \n",
       "d   2  51  Brasil  \n",
       "f   5  48  Brasil  \n",
       "g   6  46  Brasil  \n",
       "b   4  62  Brasil  \n",
       "c   5  62  Brasil  \n",
       "a   0  70  Brasil  "
      ]
     },
     "execution_count": 242,
     "metadata": {},
     "output_type": "execute_result"
    }
   ],
   "source": [
    "df['Pais'] = 'Brasil'\n",
    "\n",
    "df"
   ]
  },
  {
   "cell_type": "code",
   "execution_count": null,
   "metadata": {
    "collapsed": true
   },
   "outputs": [],
   "source": []
  }
 ],
 "metadata": {
  "kernelspec": {
   "display_name": "Python 3",
   "language": "python",
   "name": "python3"
  },
  "language_info": {
   "codemirror_mode": {
    "name": "ipython",
    "version": 3
   },
   "file_extension": ".py",
   "mimetype": "text/x-python",
   "name": "python",
   "nbconvert_exporter": "python",
   "pygments_lexer": "ipython3",
   "version": "3.5.2"
  }
 },
 "nbformat": 4,
 "nbformat_minor": 1
}
